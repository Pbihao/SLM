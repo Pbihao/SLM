{
 "cells": [
  {
   "cell_type": "code",
   "execution_count": 1,
   "metadata": {},
   "outputs": [
    {
     "name": "stderr",
     "output_type": "stream",
     "text": [
      "/data/miniconda3/envs/alpaca/lib/python3.10/site-packages/tqdm/auto.py:21: TqdmWarning: IProgress not found. Please update jupyter and ipywidgets. See https://ipywidgets.readthedocs.io/en/stable/user_install.html\n",
      "  from .autonotebook import tqdm as notebook_tqdm\n"
     ]
    },
    {
     "name": "stdout",
     "output_type": "stream",
     "text": [
      "[2023-08-15 19:59:47,081] [INFO] [real_accelerator.py:110:get_accelerator] Setting ds_accelerator to cuda (auto detect)\n"
     ]
    },
    {
     "name": "stderr",
     "output_type": "stream",
     "text": [
      "Loading checkpoint shards: 100%|██████████| 2/2 [00:01<00:00,  1.56it/s]\n"
     ]
    },
    {
     "name": "stdout",
     "output_type": "stream",
     "text": [
      "<=============== Freeze Keys =============>\n"
     ]
    },
    {
     "data": {
      "text/plain": [
       "_IncompatibleKeys(missing_keys=['model.model.embed_tokens.weight', 'model.model.layers.0.self_attn.q_proj.weight', 'model.model.layers.0.self_attn.k_proj.weight', 'model.model.layers.0.self_attn.v_proj.weight', 'model.model.layers.0.self_attn.o_proj.weight', 'model.model.layers.0.self_attn.rotary_emb.inv_freq', 'model.model.layers.0.mlp.gate_proj.weight', 'model.model.layers.0.mlp.up_proj.weight', 'model.model.layers.0.mlp.down_proj.weight', 'model.model.layers.0.input_layernorm.weight', 'model.model.layers.0.post_attention_layernorm.weight', 'model.model.layers.1.self_attn.q_proj.weight', 'model.model.layers.1.self_attn.k_proj.weight', 'model.model.layers.1.self_attn.v_proj.weight', 'model.model.layers.1.self_attn.o_proj.weight', 'model.model.layers.1.self_attn.rotary_emb.inv_freq', 'model.model.layers.1.mlp.gate_proj.weight', 'model.model.layers.1.mlp.up_proj.weight', 'model.model.layers.1.mlp.down_proj.weight', 'model.model.layers.1.input_layernorm.weight', 'model.model.layers.1.post_attention_layernorm.weight', 'model.model.layers.2.self_attn.q_proj.weight', 'model.model.layers.2.self_attn.k_proj.weight', 'model.model.layers.2.self_attn.v_proj.weight', 'model.model.layers.2.self_attn.o_proj.weight', 'model.model.layers.2.self_attn.rotary_emb.inv_freq', 'model.model.layers.2.mlp.gate_proj.weight', 'model.model.layers.2.mlp.up_proj.weight', 'model.model.layers.2.mlp.down_proj.weight', 'model.model.layers.2.input_layernorm.weight', 'model.model.layers.2.post_attention_layernorm.weight', 'model.model.layers.3.self_attn.q_proj.weight', 'model.model.layers.3.self_attn.k_proj.weight', 'model.model.layers.3.self_attn.v_proj.weight', 'model.model.layers.3.self_attn.o_proj.weight', 'model.model.layers.3.self_attn.rotary_emb.inv_freq', 'model.model.layers.3.mlp.gate_proj.weight', 'model.model.layers.3.mlp.up_proj.weight', 'model.model.layers.3.mlp.down_proj.weight', 'model.model.layers.3.input_layernorm.weight', 'model.model.layers.3.post_attention_layernorm.weight', 'model.model.layers.4.self_attn.q_proj.weight', 'model.model.layers.4.self_attn.k_proj.weight', 'model.model.layers.4.self_attn.v_proj.weight', 'model.model.layers.4.self_attn.o_proj.weight', 'model.model.layers.4.self_attn.rotary_emb.inv_freq', 'model.model.layers.4.mlp.gate_proj.weight', 'model.model.layers.4.mlp.up_proj.weight', 'model.model.layers.4.mlp.down_proj.weight', 'model.model.layers.4.input_layernorm.weight', 'model.model.layers.4.post_attention_layernorm.weight', 'model.model.layers.5.self_attn.q_proj.weight', 'model.model.layers.5.self_attn.k_proj.weight', 'model.model.layers.5.self_attn.v_proj.weight', 'model.model.layers.5.self_attn.o_proj.weight', 'model.model.layers.5.self_attn.rotary_emb.inv_freq', 'model.model.layers.5.mlp.gate_proj.weight', 'model.model.layers.5.mlp.up_proj.weight', 'model.model.layers.5.mlp.down_proj.weight', 'model.model.layers.5.input_layernorm.weight', 'model.model.layers.5.post_attention_layernorm.weight', 'model.model.layers.6.self_attn.q_proj.weight', 'model.model.layers.6.self_attn.k_proj.weight', 'model.model.layers.6.self_attn.v_proj.weight', 'model.model.layers.6.self_attn.o_proj.weight', 'model.model.layers.6.self_attn.rotary_emb.inv_freq', 'model.model.layers.6.mlp.gate_proj.weight', 'model.model.layers.6.mlp.up_proj.weight', 'model.model.layers.6.mlp.down_proj.weight', 'model.model.layers.6.input_layernorm.weight', 'model.model.layers.6.post_attention_layernorm.weight', 'model.model.layers.7.self_attn.q_proj.weight', 'model.model.layers.7.self_attn.k_proj.weight', 'model.model.layers.7.self_attn.v_proj.weight', 'model.model.layers.7.self_attn.o_proj.weight', 'model.model.layers.7.self_attn.rotary_emb.inv_freq', 'model.model.layers.7.mlp.gate_proj.weight', 'model.model.layers.7.mlp.up_proj.weight', 'model.model.layers.7.mlp.down_proj.weight', 'model.model.layers.7.input_layernorm.weight', 'model.model.layers.7.post_attention_layernorm.weight', 'model.model.layers.8.self_attn.q_proj.weight', 'model.model.layers.8.self_attn.k_proj.weight', 'model.model.layers.8.self_attn.v_proj.weight', 'model.model.layers.8.self_attn.o_proj.weight', 'model.model.layers.8.self_attn.rotary_emb.inv_freq', 'model.model.layers.8.mlp.gate_proj.weight', 'model.model.layers.8.mlp.up_proj.weight', 'model.model.layers.8.mlp.down_proj.weight', 'model.model.layers.8.input_layernorm.weight', 'model.model.layers.8.post_attention_layernorm.weight', 'model.model.layers.9.self_attn.q_proj.weight', 'model.model.layers.9.self_attn.k_proj.weight', 'model.model.layers.9.self_attn.v_proj.weight', 'model.model.layers.9.self_attn.o_proj.weight', 'model.model.layers.9.self_attn.rotary_emb.inv_freq', 'model.model.layers.9.mlp.gate_proj.weight', 'model.model.layers.9.mlp.up_proj.weight', 'model.model.layers.9.mlp.down_proj.weight', 'model.model.layers.9.input_layernorm.weight', 'model.model.layers.9.post_attention_layernorm.weight', 'model.model.layers.10.self_attn.q_proj.weight', 'model.model.layers.10.self_attn.k_proj.weight', 'model.model.layers.10.self_attn.v_proj.weight', 'model.model.layers.10.self_attn.o_proj.weight', 'model.model.layers.10.self_attn.rotary_emb.inv_freq', 'model.model.layers.10.mlp.gate_proj.weight', 'model.model.layers.10.mlp.up_proj.weight', 'model.model.layers.10.mlp.down_proj.weight', 'model.model.layers.10.input_layernorm.weight', 'model.model.layers.10.post_attention_layernorm.weight', 'model.model.layers.11.self_attn.q_proj.weight', 'model.model.layers.11.self_attn.k_proj.weight', 'model.model.layers.11.self_attn.v_proj.weight', 'model.model.layers.11.self_attn.o_proj.weight', 'model.model.layers.11.self_attn.rotary_emb.inv_freq', 'model.model.layers.11.mlp.gate_proj.weight', 'model.model.layers.11.mlp.up_proj.weight', 'model.model.layers.11.mlp.down_proj.weight', 'model.model.layers.11.input_layernorm.weight', 'model.model.layers.11.post_attention_layernorm.weight', 'model.model.layers.12.self_attn.q_proj.weight', 'model.model.layers.12.self_attn.k_proj.weight', 'model.model.layers.12.self_attn.v_proj.weight', 'model.model.layers.12.self_attn.o_proj.weight', 'model.model.layers.12.self_attn.rotary_emb.inv_freq', 'model.model.layers.12.mlp.gate_proj.weight', 'model.model.layers.12.mlp.up_proj.weight', 'model.model.layers.12.mlp.down_proj.weight', 'model.model.layers.12.input_layernorm.weight', 'model.model.layers.12.post_attention_layernorm.weight', 'model.model.layers.13.self_attn.q_proj.weight', 'model.model.layers.13.self_attn.k_proj.weight', 'model.model.layers.13.self_attn.v_proj.weight', 'model.model.layers.13.self_attn.o_proj.weight', 'model.model.layers.13.self_attn.rotary_emb.inv_freq', 'model.model.layers.13.mlp.gate_proj.weight', 'model.model.layers.13.mlp.up_proj.weight', 'model.model.layers.13.mlp.down_proj.weight', 'model.model.layers.13.input_layernorm.weight', 'model.model.layers.13.post_attention_layernorm.weight', 'model.model.layers.14.self_attn.q_proj.weight', 'model.model.layers.14.self_attn.k_proj.weight', 'model.model.layers.14.self_attn.v_proj.weight', 'model.model.layers.14.self_attn.o_proj.weight', 'model.model.layers.14.self_attn.rotary_emb.inv_freq', 'model.model.layers.14.mlp.gate_proj.weight', 'model.model.layers.14.mlp.up_proj.weight', 'model.model.layers.14.mlp.down_proj.weight', 'model.model.layers.14.input_layernorm.weight', 'model.model.layers.14.post_attention_layernorm.weight', 'model.model.layers.15.self_attn.q_proj.weight', 'model.model.layers.15.self_attn.k_proj.weight', 'model.model.layers.15.self_attn.v_proj.weight', 'model.model.layers.15.self_attn.o_proj.weight', 'model.model.layers.15.self_attn.rotary_emb.inv_freq', 'model.model.layers.15.mlp.gate_proj.weight', 'model.model.layers.15.mlp.up_proj.weight', 'model.model.layers.15.mlp.down_proj.weight', 'model.model.layers.15.input_layernorm.weight', 'model.model.layers.15.post_attention_layernorm.weight', 'model.model.layers.16.self_attn.q_proj.weight', 'model.model.layers.16.self_attn.k_proj.weight', 'model.model.layers.16.self_attn.v_proj.weight', 'model.model.layers.16.self_attn.o_proj.weight', 'model.model.layers.16.self_attn.rotary_emb.inv_freq', 'model.model.layers.16.mlp.gate_proj.weight', 'model.model.layers.16.mlp.up_proj.weight', 'model.model.layers.16.mlp.down_proj.weight', 'model.model.layers.16.input_layernorm.weight', 'model.model.layers.16.post_attention_layernorm.weight', 'model.model.layers.17.self_attn.q_proj.weight', 'model.model.layers.17.self_attn.k_proj.weight', 'model.model.layers.17.self_attn.v_proj.weight', 'model.model.layers.17.self_attn.o_proj.weight', 'model.model.layers.17.self_attn.rotary_emb.inv_freq', 'model.model.layers.17.mlp.gate_proj.weight', 'model.model.layers.17.mlp.up_proj.weight', 'model.model.layers.17.mlp.down_proj.weight', 'model.model.layers.17.input_layernorm.weight', 'model.model.layers.17.post_attention_layernorm.weight', 'model.model.layers.18.self_attn.q_proj.weight', 'model.model.layers.18.self_attn.k_proj.weight', 'model.model.layers.18.self_attn.v_proj.weight', 'model.model.layers.18.self_attn.o_proj.weight', 'model.model.layers.18.self_attn.rotary_emb.inv_freq', 'model.model.layers.18.mlp.gate_proj.weight', 'model.model.layers.18.mlp.up_proj.weight', 'model.model.layers.18.mlp.down_proj.weight', 'model.model.layers.18.input_layernorm.weight', 'model.model.layers.18.post_attention_layernorm.weight', 'model.model.layers.19.self_attn.q_proj.weight', 'model.model.layers.19.self_attn.k_proj.weight', 'model.model.layers.19.self_attn.v_proj.weight', 'model.model.layers.19.self_attn.o_proj.weight', 'model.model.layers.19.self_attn.rotary_emb.inv_freq', 'model.model.layers.19.mlp.gate_proj.weight', 'model.model.layers.19.mlp.up_proj.weight', 'model.model.layers.19.mlp.down_proj.weight', 'model.model.layers.19.input_layernorm.weight', 'model.model.layers.19.post_attention_layernorm.weight', 'model.model.layers.20.self_attn.q_proj.weight', 'model.model.layers.20.self_attn.k_proj.weight', 'model.model.layers.20.self_attn.v_proj.weight', 'model.model.layers.20.self_attn.o_proj.weight', 'model.model.layers.20.self_attn.rotary_emb.inv_freq', 'model.model.layers.20.mlp.gate_proj.weight', 'model.model.layers.20.mlp.up_proj.weight', 'model.model.layers.20.mlp.down_proj.weight', 'model.model.layers.20.input_layernorm.weight', 'model.model.layers.20.post_attention_layernorm.weight', 'model.model.layers.21.self_attn.q_proj.weight', 'model.model.layers.21.self_attn.k_proj.weight', 'model.model.layers.21.self_attn.v_proj.weight', 'model.model.layers.21.self_attn.o_proj.weight', 'model.model.layers.21.self_attn.rotary_emb.inv_freq', 'model.model.layers.21.mlp.gate_proj.weight', 'model.model.layers.21.mlp.up_proj.weight', 'model.model.layers.21.mlp.down_proj.weight', 'model.model.layers.21.input_layernorm.weight', 'model.model.layers.21.post_attention_layernorm.weight', 'model.model.layers.22.self_attn.q_proj.weight', 'model.model.layers.22.self_attn.k_proj.weight', 'model.model.layers.22.self_attn.v_proj.weight', 'model.model.layers.22.self_attn.o_proj.weight', 'model.model.layers.22.self_attn.rotary_emb.inv_freq', 'model.model.layers.22.mlp.gate_proj.weight', 'model.model.layers.22.mlp.up_proj.weight', 'model.model.layers.22.mlp.down_proj.weight', 'model.model.layers.22.input_layernorm.weight', 'model.model.layers.22.post_attention_layernorm.weight', 'model.model.layers.23.self_attn.q_proj.weight', 'model.model.layers.23.self_attn.k_proj.weight', 'model.model.layers.23.self_attn.v_proj.weight', 'model.model.layers.23.self_attn.o_proj.weight', 'model.model.layers.23.self_attn.rotary_emb.inv_freq', 'model.model.layers.23.mlp.gate_proj.weight', 'model.model.layers.23.mlp.up_proj.weight', 'model.model.layers.23.mlp.down_proj.weight', 'model.model.layers.23.input_layernorm.weight', 'model.model.layers.23.post_attention_layernorm.weight', 'model.model.layers.24.self_attn.q_proj.weight', 'model.model.layers.24.self_attn.k_proj.weight', 'model.model.layers.24.self_attn.v_proj.weight', 'model.model.layers.24.self_attn.o_proj.weight', 'model.model.layers.24.self_attn.rotary_emb.inv_freq', 'model.model.layers.24.mlp.gate_proj.weight', 'model.model.layers.24.mlp.up_proj.weight', 'model.model.layers.24.mlp.down_proj.weight', 'model.model.layers.24.input_layernorm.weight', 'model.model.layers.24.post_attention_layernorm.weight', 'model.model.layers.25.self_attn.q_proj.weight', 'model.model.layers.25.self_attn.k_proj.weight', 'model.model.layers.25.self_attn.v_proj.weight', 'model.model.layers.25.self_attn.o_proj.weight', 'model.model.layers.25.self_attn.rotary_emb.inv_freq', 'model.model.layers.25.mlp.gate_proj.weight', 'model.model.layers.25.mlp.up_proj.weight', 'model.model.layers.25.mlp.down_proj.weight', 'model.model.layers.25.input_layernorm.weight', 'model.model.layers.25.post_attention_layernorm.weight', 'model.model.layers.26.self_attn.q_proj.weight', 'model.model.layers.26.self_attn.k_proj.weight', 'model.model.layers.26.self_attn.v_proj.weight', 'model.model.layers.26.self_attn.o_proj.weight', 'model.model.layers.26.self_attn.rotary_emb.inv_freq', 'model.model.layers.26.mlp.gate_proj.weight', 'model.model.layers.26.mlp.up_proj.weight', 'model.model.layers.26.mlp.down_proj.weight', 'model.model.layers.26.input_layernorm.weight', 'model.model.layers.26.post_attention_layernorm.weight', 'model.model.layers.27.self_attn.q_proj.weight', 'model.model.layers.27.self_attn.k_proj.weight', 'model.model.layers.27.self_attn.v_proj.weight', 'model.model.layers.27.self_attn.o_proj.weight', 'model.model.layers.27.self_attn.rotary_emb.inv_freq', 'model.model.layers.27.mlp.gate_proj.weight', 'model.model.layers.27.mlp.up_proj.weight', 'model.model.layers.27.mlp.down_proj.weight', 'model.model.layers.27.input_layernorm.weight', 'model.model.layers.27.post_attention_layernorm.weight', 'model.model.layers.28.self_attn.q_proj.weight', 'model.model.layers.28.self_attn.k_proj.weight', 'model.model.layers.28.self_attn.v_proj.weight', 'model.model.layers.28.self_attn.o_proj.weight', 'model.model.layers.28.self_attn.rotary_emb.inv_freq', 'model.model.layers.28.mlp.gate_proj.weight', 'model.model.layers.28.mlp.up_proj.weight', 'model.model.layers.28.mlp.down_proj.weight', 'model.model.layers.28.input_layernorm.weight', 'model.model.layers.28.post_attention_layernorm.weight', 'model.model.layers.29.self_attn.q_proj.weight', 'model.model.layers.29.self_attn.k_proj.weight', 'model.model.layers.29.self_attn.v_proj.weight', 'model.model.layers.29.self_attn.o_proj.weight', 'model.model.layers.29.self_attn.rotary_emb.inv_freq', 'model.model.layers.29.mlp.gate_proj.weight', 'model.model.layers.29.mlp.up_proj.weight', 'model.model.layers.29.mlp.down_proj.weight', 'model.model.layers.29.input_layernorm.weight', 'model.model.layers.29.post_attention_layernorm.weight', 'model.model.layers.30.self_attn.q_proj.weight', 'model.model.layers.30.self_attn.k_proj.weight', 'model.model.layers.30.self_attn.v_proj.weight', 'model.model.layers.30.self_attn.o_proj.weight', 'model.model.layers.30.self_attn.rotary_emb.inv_freq', 'model.model.layers.30.mlp.gate_proj.weight', 'model.model.layers.30.mlp.up_proj.weight', 'model.model.layers.30.mlp.down_proj.weight', 'model.model.layers.30.input_layernorm.weight', 'model.model.layers.30.post_attention_layernorm.weight', 'model.model.layers.31.self_attn.q_proj.weight', 'model.model.layers.31.self_attn.k_proj.weight', 'model.model.layers.31.self_attn.v_proj.weight', 'model.model.layers.31.self_attn.o_proj.weight', 'model.model.layers.31.self_attn.rotary_emb.inv_freq', 'model.model.layers.31.mlp.gate_proj.weight', 'model.model.layers.31.mlp.up_proj.weight', 'model.model.layers.31.mlp.down_proj.weight', 'model.model.layers.31.input_layernorm.weight', 'model.model.layers.31.post_attention_layernorm.weight', 'model.model.norm.weight', 'model.lm_head.weight', 'retriever.bert.embeddings.word_embeddings.weight', 'retriever.bert.embeddings.position_embeddings.weight', 'retriever.bert.embeddings.token_type_embeddings.weight', 'retriever.bert.embeddings.LayerNorm.weight', 'retriever.bert.embeddings.LayerNorm.bias', 'retriever.bert.encoder.layer.0.attention.self.query.weight', 'retriever.bert.encoder.layer.0.attention.self.query.bias', 'retriever.bert.encoder.layer.0.attention.self.key.weight', 'retriever.bert.encoder.layer.0.attention.self.key.bias', 'retriever.bert.encoder.layer.0.attention.self.value.weight', 'retriever.bert.encoder.layer.0.attention.self.value.bias', 'retriever.bert.encoder.layer.0.attention.output.dense.weight', 'retriever.bert.encoder.layer.0.attention.output.dense.bias', 'retriever.bert.encoder.layer.0.attention.output.LayerNorm.weight', 'retriever.bert.encoder.layer.0.attention.output.LayerNorm.bias', 'retriever.bert.encoder.layer.0.intermediate.dense.weight', 'retriever.bert.encoder.layer.0.intermediate.dense.bias', 'retriever.bert.encoder.layer.0.output.dense.weight', 'retriever.bert.encoder.layer.0.output.dense.bias', 'retriever.bert.encoder.layer.0.output.LayerNorm.weight', 'retriever.bert.encoder.layer.0.output.LayerNorm.bias', 'retriever.bert.encoder.layer.1.attention.self.query.weight', 'retriever.bert.encoder.layer.1.attention.self.query.bias', 'retriever.bert.encoder.layer.1.attention.self.key.weight', 'retriever.bert.encoder.layer.1.attention.self.key.bias', 'retriever.bert.encoder.layer.1.attention.self.value.weight', 'retriever.bert.encoder.layer.1.attention.self.value.bias', 'retriever.bert.encoder.layer.1.attention.output.dense.weight', 'retriever.bert.encoder.layer.1.attention.output.dense.bias', 'retriever.bert.encoder.layer.1.attention.output.LayerNorm.weight', 'retriever.bert.encoder.layer.1.attention.output.LayerNorm.bias', 'retriever.bert.encoder.layer.1.intermediate.dense.weight', 'retriever.bert.encoder.layer.1.intermediate.dense.bias', 'retriever.bert.encoder.layer.1.output.dense.weight', 'retriever.bert.encoder.layer.1.output.dense.bias', 'retriever.bert.encoder.layer.1.output.LayerNorm.weight', 'retriever.bert.encoder.layer.1.output.LayerNorm.bias', 'retriever.bert.encoder.layer.2.attention.self.query.weight', 'retriever.bert.encoder.layer.2.attention.self.query.bias', 'retriever.bert.encoder.layer.2.attention.self.key.weight', 'retriever.bert.encoder.layer.2.attention.self.key.bias', 'retriever.bert.encoder.layer.2.attention.self.value.weight', 'retriever.bert.encoder.layer.2.attention.self.value.bias', 'retriever.bert.encoder.layer.2.attention.output.dense.weight', 'retriever.bert.encoder.layer.2.attention.output.dense.bias', 'retriever.bert.encoder.layer.2.attention.output.LayerNorm.weight', 'retriever.bert.encoder.layer.2.attention.output.LayerNorm.bias', 'retriever.bert.encoder.layer.2.intermediate.dense.weight', 'retriever.bert.encoder.layer.2.intermediate.dense.bias', 'retriever.bert.encoder.layer.2.output.dense.weight', 'retriever.bert.encoder.layer.2.output.dense.bias', 'retriever.bert.encoder.layer.2.output.LayerNorm.weight', 'retriever.bert.encoder.layer.2.output.LayerNorm.bias', 'retriever.bert.encoder.layer.3.attention.self.query.weight', 'retriever.bert.encoder.layer.3.attention.self.query.bias', 'retriever.bert.encoder.layer.3.attention.self.key.weight', 'retriever.bert.encoder.layer.3.attention.self.key.bias', 'retriever.bert.encoder.layer.3.attention.self.value.weight', 'retriever.bert.encoder.layer.3.attention.self.value.bias', 'retriever.bert.encoder.layer.3.attention.output.dense.weight', 'retriever.bert.encoder.layer.3.attention.output.dense.bias', 'retriever.bert.encoder.layer.3.attention.output.LayerNorm.weight', 'retriever.bert.encoder.layer.3.attention.output.LayerNorm.bias', 'retriever.bert.encoder.layer.3.intermediate.dense.weight', 'retriever.bert.encoder.layer.3.intermediate.dense.bias', 'retriever.bert.encoder.layer.3.output.dense.weight', 'retriever.bert.encoder.layer.3.output.dense.bias', 'retriever.bert.encoder.layer.3.output.LayerNorm.weight', 'retriever.bert.encoder.layer.3.output.LayerNorm.bias', 'retriever.bert.encoder.layer.4.attention.self.query.weight', 'retriever.bert.encoder.layer.4.attention.self.query.bias', 'retriever.bert.encoder.layer.4.attention.self.key.weight', 'retriever.bert.encoder.layer.4.attention.self.key.bias', 'retriever.bert.encoder.layer.4.attention.self.value.weight', 'retriever.bert.encoder.layer.4.attention.self.value.bias', 'retriever.bert.encoder.layer.4.attention.output.dense.weight', 'retriever.bert.encoder.layer.4.attention.output.dense.bias', 'retriever.bert.encoder.layer.4.attention.output.LayerNorm.weight', 'retriever.bert.encoder.layer.4.attention.output.LayerNorm.bias', 'retriever.bert.encoder.layer.4.intermediate.dense.weight', 'retriever.bert.encoder.layer.4.intermediate.dense.bias', 'retriever.bert.encoder.layer.4.output.dense.weight', 'retriever.bert.encoder.layer.4.output.dense.bias', 'retriever.bert.encoder.layer.4.output.LayerNorm.weight', 'retriever.bert.encoder.layer.4.output.LayerNorm.bias', 'retriever.bert.encoder.layer.5.attention.self.query.weight', 'retriever.bert.encoder.layer.5.attention.self.query.bias', 'retriever.bert.encoder.layer.5.attention.self.key.weight', 'retriever.bert.encoder.layer.5.attention.self.key.bias', 'retriever.bert.encoder.layer.5.attention.self.value.weight', 'retriever.bert.encoder.layer.5.attention.self.value.bias', 'retriever.bert.encoder.layer.5.attention.output.dense.weight', 'retriever.bert.encoder.layer.5.attention.output.dense.bias', 'retriever.bert.encoder.layer.5.attention.output.LayerNorm.weight', 'retriever.bert.encoder.layer.5.attention.output.LayerNorm.bias', 'retriever.bert.encoder.layer.5.intermediate.dense.weight', 'retriever.bert.encoder.layer.5.intermediate.dense.bias', 'retriever.bert.encoder.layer.5.output.dense.weight', 'retriever.bert.encoder.layer.5.output.dense.bias', 'retriever.bert.encoder.layer.5.output.LayerNorm.weight', 'retriever.bert.encoder.layer.5.output.LayerNorm.bias', 'retriever.bert.encoder.layer.6.attention.self.query.weight', 'retriever.bert.encoder.layer.6.attention.self.query.bias', 'retriever.bert.encoder.layer.6.attention.self.key.weight', 'retriever.bert.encoder.layer.6.attention.self.key.bias', 'retriever.bert.encoder.layer.6.attention.self.value.weight', 'retriever.bert.encoder.layer.6.attention.self.value.bias', 'retriever.bert.encoder.layer.6.attention.output.dense.weight', 'retriever.bert.encoder.layer.6.attention.output.dense.bias', 'retriever.bert.encoder.layer.6.attention.output.LayerNorm.weight', 'retriever.bert.encoder.layer.6.attention.output.LayerNorm.bias', 'retriever.bert.encoder.layer.6.intermediate.dense.weight', 'retriever.bert.encoder.layer.6.intermediate.dense.bias', 'retriever.bert.encoder.layer.6.output.dense.weight', 'retriever.bert.encoder.layer.6.output.dense.bias', 'retriever.bert.encoder.layer.6.output.LayerNorm.weight', 'retriever.bert.encoder.layer.6.output.LayerNorm.bias', 'retriever.bert.encoder.layer.7.attention.self.query.weight', 'retriever.bert.encoder.layer.7.attention.self.query.bias', 'retriever.bert.encoder.layer.7.attention.self.key.weight', 'retriever.bert.encoder.layer.7.attention.self.key.bias', 'retriever.bert.encoder.layer.7.attention.self.value.weight', 'retriever.bert.encoder.layer.7.attention.self.value.bias', 'retriever.bert.encoder.layer.7.attention.output.dense.weight', 'retriever.bert.encoder.layer.7.attention.output.dense.bias', 'retriever.bert.encoder.layer.7.attention.output.LayerNorm.weight', 'retriever.bert.encoder.layer.7.attention.output.LayerNorm.bias', 'retriever.bert.encoder.layer.7.intermediate.dense.weight', 'retriever.bert.encoder.layer.7.intermediate.dense.bias', 'retriever.bert.encoder.layer.7.output.dense.weight', 'retriever.bert.encoder.layer.7.output.dense.bias', 'retriever.bert.encoder.layer.7.output.LayerNorm.weight', 'retriever.bert.encoder.layer.7.output.LayerNorm.bias', 'retriever.bert.encoder.layer.8.attention.self.query.weight', 'retriever.bert.encoder.layer.8.attention.self.query.bias', 'retriever.bert.encoder.layer.8.attention.self.key.weight', 'retriever.bert.encoder.layer.8.attention.self.key.bias', 'retriever.bert.encoder.layer.8.attention.self.value.weight', 'retriever.bert.encoder.layer.8.attention.self.value.bias', 'retriever.bert.encoder.layer.8.attention.output.dense.weight', 'retriever.bert.encoder.layer.8.attention.output.dense.bias', 'retriever.bert.encoder.layer.8.attention.output.LayerNorm.weight', 'retriever.bert.encoder.layer.8.attention.output.LayerNorm.bias', 'retriever.bert.encoder.layer.8.intermediate.dense.weight', 'retriever.bert.encoder.layer.8.intermediate.dense.bias', 'retriever.bert.encoder.layer.8.output.dense.weight', 'retriever.bert.encoder.layer.8.output.dense.bias', 'retriever.bert.encoder.layer.8.output.LayerNorm.weight', 'retriever.bert.encoder.layer.8.output.LayerNorm.bias', 'retriever.bert.encoder.layer.9.attention.self.query.weight', 'retriever.bert.encoder.layer.9.attention.self.query.bias', 'retriever.bert.encoder.layer.9.attention.self.key.weight', 'retriever.bert.encoder.layer.9.attention.self.key.bias', 'retriever.bert.encoder.layer.9.attention.self.value.weight', 'retriever.bert.encoder.layer.9.attention.self.value.bias', 'retriever.bert.encoder.layer.9.attention.output.dense.weight', 'retriever.bert.encoder.layer.9.attention.output.dense.bias', 'retriever.bert.encoder.layer.9.attention.output.LayerNorm.weight', 'retriever.bert.encoder.layer.9.attention.output.LayerNorm.bias', 'retriever.bert.encoder.layer.9.intermediate.dense.weight', 'retriever.bert.encoder.layer.9.intermediate.dense.bias', 'retriever.bert.encoder.layer.9.output.dense.weight', 'retriever.bert.encoder.layer.9.output.dense.bias', 'retriever.bert.encoder.layer.9.output.LayerNorm.weight', 'retriever.bert.encoder.layer.9.output.LayerNorm.bias', 'retriever.bert.encoder.layer.10.attention.self.query.weight', 'retriever.bert.encoder.layer.10.attention.self.query.bias', 'retriever.bert.encoder.layer.10.attention.self.key.weight', 'retriever.bert.encoder.layer.10.attention.self.key.bias', 'retriever.bert.encoder.layer.10.attention.self.value.weight', 'retriever.bert.encoder.layer.10.attention.self.value.bias', 'retriever.bert.encoder.layer.10.attention.output.dense.weight', 'retriever.bert.encoder.layer.10.attention.output.dense.bias', 'retriever.bert.encoder.layer.10.attention.output.LayerNorm.weight', 'retriever.bert.encoder.layer.10.attention.output.LayerNorm.bias', 'retriever.bert.encoder.layer.10.intermediate.dense.weight', 'retriever.bert.encoder.layer.10.intermediate.dense.bias', 'retriever.bert.encoder.layer.10.output.dense.weight', 'retriever.bert.encoder.layer.10.output.dense.bias', 'retriever.bert.encoder.layer.10.output.LayerNorm.weight', 'retriever.bert.encoder.layer.10.output.LayerNorm.bias', 'retriever.bert.encoder.layer.11.attention.self.query.weight', 'retriever.bert.encoder.layer.11.attention.self.query.bias', 'retriever.bert.encoder.layer.11.attention.self.key.weight', 'retriever.bert.encoder.layer.11.attention.self.key.bias', 'retriever.bert.encoder.layer.11.attention.self.value.weight', 'retriever.bert.encoder.layer.11.attention.self.value.bias', 'retriever.bert.encoder.layer.11.attention.output.dense.weight', 'retriever.bert.encoder.layer.11.attention.output.dense.bias', 'retriever.bert.encoder.layer.11.attention.output.LayerNorm.weight', 'retriever.bert.encoder.layer.11.attention.output.LayerNorm.bias', 'retriever.bert.encoder.layer.11.intermediate.dense.weight', 'retriever.bert.encoder.layer.11.intermediate.dense.bias', 'retriever.bert.encoder.layer.11.output.dense.weight', 'retriever.bert.encoder.layer.11.output.dense.bias', 'retriever.bert.encoder.layer.11.output.LayerNorm.weight', 'retriever.bert.encoder.layer.11.output.LayerNorm.bias', 'retriever.bert.pooler.dense.weight', 'retriever.bert.pooler.dense.bias'], unexpected_keys=[])"
      ]
     },
     "execution_count": 1,
     "metadata": {},
     "output_type": "execute_result"
    }
   ],
   "source": [
    "from transformers import AutoTokenizer\n",
    "from datasets import load_dataset\n",
    "from models.slm import ScalableLM\n",
    "from models.config import LlamaCLConfig\n",
    "import torch\n",
    "\n",
    "tokenizer = AutoTokenizer.from_pretrained(\"meta-llama/Llama-2-7b-chat-hf\")\n",
    "dataset = load_dataset(\"LinhDuong/chatdoctor-200k\", split='train')\n",
    "model = ScalableLM(LlamaCLConfig())\n",
    "model.load_state_dict(torch.load(\"/home/user/bhpeng/SLM-llama/outputs/medical/medical/checkpoint-4860/pytorch_model_retriever.bin\"), strict=False)"
   ]
  },
  {
   "cell_type": "code",
   "execution_count": 8,
   "metadata": {},
   "outputs": [],
   "source": [
    "PROMPT_TEMPLATE = {\n",
    "'with_sys': \"\"\"[INST] <<SYS>>\n",
    "{instruction}\n",
    "<</SYS>>\n",
    "\n",
    "{input} [/INST] \\n\"\"\",\n",
    "\n",
    "'without_sys': \"\"\"[INST] {input} [/INST] \\n\"\"\"\n",
    "}\n",
    "\n",
    "def prepare_data(example):\n",
    "    raw_text = example['instruction'] + \" ### \" + example['input'] if 'instruction' in example.keys() else \\\n",
    "                   example['input']\n",
    "    source = PROMPT_TEMPLATE['with_sys'].format_map(example) if 'instruction' in example.keys() else\\\n",
    "                 PROMPT_TEMPLATE['without_sys'].format_map(example)\n",
    "    source = tokenizer(\n",
    "            source,\n",
    "            max_length=512,\n",
    "            truncation=True,\n",
    "            return_tensors='pt'\n",
    "        )\n",
    "    task = 'medical'\n",
    "    return dict(\n",
    "        raw_text=raw_text,\n",
    "        input_ids=source['input_ids'].to(\"cuda\"),\n",
    "        attention_mask=source['attention_mask'].to(\"cuda\"),\n",
    "        task=task\n",
    "    ), example['output'] + \"</s>\""
   ]
  },
  {
   "cell_type": "code",
   "execution_count": 4,
   "metadata": {},
   "outputs": [],
   "source": [
    "model = model.to(\"cuda\")"
   ]
  },
  {
   "cell_type": "code",
   "execution_count": 17,
   "metadata": {},
   "outputs": [
    {
     "name": "stdout",
     "output_type": "stream",
     "text": [
      "Skin is sensitive you should use non-toxic ointments creams and soaps it should be without proteins it should be not free milk free soda free you a use petroleum jelly for Chat Doctor. </s> \n",
      "\n",
      "<s> [INST] <<SYS>>\n",
      "If you are a doctor, please answer the medical questions based on the patient's description.\n",
      "<</SYS>>\n",
      "\n",
      "my 1 year old daughter has red blotchy rash mostly on her stomach and chest . it appears mostly after baths and seems to be painful when inflamed. lotion or oil seems to make it worse. we have tried several different soaps - johnson s moisture therapy , aveeno, and aquaphor baby soaps. We have tried eucerin extreme dry skin lotion, aquaphor ointment, johnsons s creme lotion and regular lotion, and all cause the red raised rash to become even more inflamed and painful... please help! [/INST] \n",
      "It may be due to allergy to soap or body lotion. Stop using all these products. Use hypoallergenic soap like detail. Use lactocalamine lotion for bath. If not subsiding in 7 days consult dermatologist.</s>\n"
     ]
    },
    {
     "ename": "",
     "evalue": "",
     "output_type": "error",
     "traceback": [
      "\u001b[1;31mThe Kernel crashed while executing code in the the current cell or a previous cell. Please review the code in the cell(s) to identify a possible cause of the failure. Click <a href='https://aka.ms/vscodeJupyterKernelCrash'>here</a> for more info. View Jupyter <a href='command:jupyter.viewOutput'>log</a> for further details."
     ]
    }
   ],
   "source": [
    "import random\n",
    "inps, outs = prepare_data(dataset[random.randint(0, 1000)])\n",
    "out = model.generate(**inps)\n",
    "print(outs, \"\\n\")\n",
    "print(tokenizer.decode(out[0]))"
   ]
  },
  {
   "cell_type": "code",
   "execution_count": null,
   "metadata": {},
   "outputs": [],
   "source": []
  }
 ],
 "metadata": {
  "kernelspec": {
   "display_name": "alpaca",
   "language": "python",
   "name": "python3"
  },
  "language_info": {
   "codemirror_mode": {
    "name": "ipython",
    "version": 3
   },
   "file_extension": ".py",
   "mimetype": "text/x-python",
   "name": "python",
   "nbconvert_exporter": "python",
   "pygments_lexer": "ipython3",
   "version": "3.10.12"
  },
  "orig_nbformat": 4
 },
 "nbformat": 4,
 "nbformat_minor": 2
}
