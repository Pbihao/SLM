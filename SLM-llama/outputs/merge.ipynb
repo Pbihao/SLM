{
 "cells": [
  {
   "cell_type": "code",
   "execution_count": 26,
   "metadata": {},
   "outputs": [],
   "source": [
    "import torch\n",
    "from collections import OrderedDict\n",
    "import os\n",
    "import json\n",
    "\n",
    "\n",
    "model_paths = {\n",
    "    \"finance\": \"/data/bhpeng/SLM-llama/outputs/finance2/finance/checkpoint-195/pytorch_model_retriever.bin\",\n",
    "    \"history\": \"/data/bhpeng/SLM-llama/outputs/history2/history/checkpoint-4026/pytorch_model_retriever.bin\",\n",
    "    \"medical\": \"/data/bhpeng/SLM-llama/outputs/medical2/medical/pytorch_model_retriever.bin\"\n",
    "}\n",
    "all_dict_path = \"/data/bhpeng/SLM-llama/outputs/finance_history_medical\""
   ]
  },
  {
   "cell_type": "code",
   "execution_count": 31,
   "metadata": {},
   "outputs": [
    {
     "name": "stdout",
     "output_type": "stream",
     "text": [
      "finance torch.Size([1, 6, 4, 128]) torch.Size([6, 4, 2, 1048576])\n",
      "history torch.Size([1, 6, 4, 128]) torch.Size([6, 4, 2, 1048576])\n",
      "medical torch.Size([1, 6, 4, 128]) torch.Size([6, 4, 2, 1048576])\n"
     ]
    }
   ],
   "source": [
    "state_dict = dict()\n",
    "keys = []\n",
    "weight_offset = []\n",
    "for k, v in model_paths.items():\n",
    "    state_dict[k] = torch.load(v)\n",
    "    if k == 'medical':\n",
    "        state_dict[k]['retriever.weight_offset'] = state_dict[k]['retriever.weight_offset'][:, :4, ...]\n",
    "        state_dict[k]['retriever.keys'] = state_dict[k]['retriever.keys'][:, :, :4, :]\n",
    "    print(k, state_dict[k]['retriever.keys'].shape, state_dict[k]['retriever.weight_offset'].shape)\n",
    "    keys.append(state_dict[k]['retriever.keys'])\n",
    "    weight_offset.append(state_dict[k]['retriever.weight_offset'])"
   ]
  },
  {
   "cell_type": "code",
   "execution_count": 32,
   "metadata": {},
   "outputs": [],
   "source": [
    "\n",
    "keys = torch.cat(keys, dim=2)\n",
    "weight_offset = torch.cat(weight_offset, dim=1)\n",
    "config_all = {\n",
    "    \"task_pool_index_range\": {\n",
    "        \"finance\": [0, 4],\n",
    "        \"history\": [4, 8],\n",
    "        \"medical\": [8, 12]\n",
    "    },\n",
    "    \"pool_size\": 12,\n",
    "    \"prompt_topk\": 2,\n",
    "    \"low_rank\": 8,\n",
    "    \"groups\": 6,\n",
    "    \"similarity_type\": \"cosine\"\n",
    "}\n",
    "state_dict_all =OrderedDict()\n",
    "state_dict_all['retriever.weight_offset'] = weight_offset\n",
    "state_dict_all['retriever.keys'] = keys\n",
    "torch.save(state_dict_all, os.path.join(all_dict_path, \"pytorch_model.bin\"))\n",
    "with open(os.path.join(all_dict_path, \"config.json\"), \"w\") as f:\n",
    "    json.dump(config_all, f, indent=2)"
   ]
  }
 ],
 "metadata": {
  "kernelspec": {
   "display_name": "llm_seg",
   "language": "python",
   "name": "python3"
  },
  "language_info": {
   "codemirror_mode": {
    "name": "ipython",
    "version": 3
   },
   "file_extension": ".py",
   "mimetype": "text/x-python",
   "name": "python",
   "nbconvert_exporter": "python",
   "pygments_lexer": "ipython3",
   "version": "3.10.12"
  },
  "orig_nbformat": 4
 },
 "nbformat": 4,
 "nbformat_minor": 2
}
