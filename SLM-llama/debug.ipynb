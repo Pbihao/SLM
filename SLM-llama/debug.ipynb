{
 "cells": [
  {
   "cell_type": "code",
   "execution_count": 1,
   "metadata": {},
   "outputs": [
    {
     "name": "stderr",
     "output_type": "stream",
     "text": [
      "/data/miniconda3/envs/alpaca/lib/python3.10/site-packages/tqdm/auto.py:21: TqdmWarning: IProgress not found. Please update jupyter and ipywidgets. See https://ipywidgets.readthedocs.io/en/stable/user_install.html\n",
      "  from .autonotebook import tqdm as notebook_tqdm\n"
     ]
    }
   ],
   "source": [
    "import importlib\n",
    "import dataset\n",
    "import dataset.dataset\n",
    "importlib.reload(dataset)\n",
    "importlib.reload(dataset.dataset)\n",
    "from dataset.dataset import get_dataset_by_name\n",
    "from transformers import AutoTokenizer\n",
    "tokenizer = AutoTokenizer.from_pretrained(\"meta-llama/Llama-2-7b-chat-hf\")\n"
   ]
  },
  {
   "cell_type": "code",
   "execution_count": 2,
   "metadata": {},
   "outputs": [
    {
     "name": "stdout",
     "output_type": "stream",
     "text": [
      "============================= LOAD TEST DATA LIST ====================================\n"
     ]
    }
   ],
   "source": [
    "dataset = get_dataset_by_name(\"finance\", tokenizer=tokenizer, split='test')\n",
    "dataset.set_format(columns=['input_ids', 'attention_mask', 'label', 'raw_text'])"
   ]
  },
  {
   "cell_type": "code",
   "execution_count": 3,
   "metadata": {},
   "outputs": [
    {
     "name": "stdout",
     "output_type": "stream",
     "text": [
      "[2023-08-17 11:08:54,207] [INFO] [real_accelerator.py:110:get_accelerator] Setting ds_accelerator to cuda (auto detect)\n"
     ]
    }
   ],
   "source": [
    "from transformers import AutoTokenizer\n",
    "from transformers import PreTrainedTokenizerBase\n",
    "import numpy as np\n",
    "from transformers import TrainingArguments, Trainer\n",
    "from models.config import LlamaCLConfig\n",
    "from transformers.modeling_utils import PreTrainedModel, unwrap_model\n",
    "from models.slm import ScalableLM\n",
    "import torch\n",
    "import torch.nn as nn\n",
    "from dataclasses import dataclass\n",
    "from typing import Optional, Union, List, Any, Dict\n",
    "from dataset.dataset import get_dataset_by_name, IGNORE_INDEX\n",
    "import os\n",
    "import re\n",
    "import argparse\n",
    "IGNORE_INDEX = -100\n",
    "@dataclass\n",
    "class DataCollatorWithPadding:\n",
    "\n",
    "    eos_token_id: PreTrainedTokenizerBase\n",
    "    task: str = \"finance\"\n",
    "\n",
    "    def __call__(self, features: List[Dict[str, Any]]) -> Dict[str, Any]:\n",
    "        batch = dict(task=self.task, \n",
    "                     raw_text=[feature.pop('raw_text') for feature in features])  # num_labels can not use\n",
    "        label_key = 'labels' if 'labels' in features else 'label'\n",
    "        input_ids, attention_mask, labels = tuple([torch.tensor(feature[key]) for feature in features] for key in ['input_ids', 'attention_mask', label_key])\n",
    "        input_ids = nn.utils.rnn.pad_sequence(\n",
    "            input_ids, batch_first=True, padding_value=self.eos_token_id\n",
    "        )\n",
    "        attention_mask = nn.utils.rnn.pad_sequence(\n",
    "            attention_mask, batch_first=True, padding_value=0\n",
    "        )\n",
    "        labels = nn.utils.rnn.pad_sequence(\n",
    "            labels, batch_first=True, padding_value=IGNORE_INDEX\n",
    "        )\n",
    "        batch.update({\n",
    "            \"input_ids\": input_ids,\n",
    "            \"attention_mask\": attention_mask,\n",
    "            \"labels\": labels,\n",
    "        })\n",
    "        return batch\n",
    "data_collator = DataCollatorWithPadding(\n",
    "                        eos_token_id=tokenizer.eos_token_id, \n",
    "                        task=\"finance\")"
   ]
  },
  {
   "cell_type": "code",
   "execution_count": 4,
   "metadata": {},
   "outputs": [],
   "source": [
    "from torch.utils.data.dataloader import DataLoader\n",
    "data_loader = DataLoader(dataset, batch_size=1, collate_fn=data_collator)"
   ]
  },
  {
   "cell_type": "code",
   "execution_count": 5,
   "metadata": {},
   "outputs": [],
   "source": [
    "it = iter(data_loader)\n",
    "data=next(it)"
   ]
  },
  {
   "cell_type": "code",
   "execution_count": 6,
   "metadata": {},
   "outputs": [
    {
     "data": {
      "text/plain": [
       "{'task': 'finance',\n",
       " 'raw_text': [\"What is the sentiment of this tweet? Please choose an answer from {negative/neutral/positive} ### The Group 's consolidated net sales for 2009 totaled 1.5 billion euros and it employs approximately 10,000 persons .\"],\n",
       " 'input_ids': tensor([[    1,   518, 25580, 29962,  3532, 14816, 29903,  6778,    13,  5618,\n",
       "            338,   278, 19688,   310,   445,  7780,   300, 29973,  3529,  6755,\n",
       "            385,  1234,   515,   426, 22198, 29914, 17821,  1705, 29914,  1066,\n",
       "           3321, 29913,    13, 29966,   829, 14816, 29903,  6778,    13,    13,\n",
       "           1576,  6431,   525, 29879,  1136, 17211,   630,  7787, 16538,   363,\n",
       "          29871, 29906, 29900, 29900, 29929,  2025,  7943, 29871, 29896, 29889,\n",
       "          29945, 24464, 11878,  1883,   322,   372,  3710,   417,   952, 14235,\n",
       "          29871, 29896, 29900, 29892, 29900, 29900, 29900, 12407,   869,   518,\n",
       "          29914, 25580, 29962, 29871]]),\n",
       " 'attention_mask': tensor([[1, 1, 1, 1, 1, 1, 1, 1, 1, 1, 1, 1, 1, 1, 1, 1, 1, 1, 1, 1, 1, 1, 1, 1,\n",
       "          1, 1, 1, 1, 1, 1, 1, 1, 1, 1, 1, 1, 1, 1, 1, 1, 1, 1, 1, 1, 1, 1, 1, 1,\n",
       "          1, 1, 1, 1, 1, 1, 1, 1, 1, 1, 1, 1, 1, 1, 1, 1, 1, 1, 1, 1, 1, 1, 1, 1,\n",
       "          1, 1, 1, 1, 1, 1, 1, 1, 1, 1, 1, 1]]),\n",
       " 'labels': tensor([[21104, 29889,     2]])}"
      ]
     },
     "execution_count": 6,
     "metadata": {},
     "output_type": "execute_result"
    }
   ],
   "source": [
    "data"
   ]
  },
  {
   "cell_type": "code",
   "execution_count": 7,
   "metadata": {},
   "outputs": [
    {
     "name": "stderr",
     "output_type": "stream",
     "text": [
      "Loading checkpoint shards: 100%|██████████| 2/2 [00:01<00:00,  1.88it/s]\n"
     ]
    },
    {
     "name": "stdout",
     "output_type": "stream",
     "text": [
      "<=============== Freeze Keys =============>\n"
     ]
    },
    {
     "data": {
      "text/plain": [
       "_IncompatibleKeys(missing_keys=['model.model.embed_tokens.weight', 'model.model.layers.0.self_attn.q_proj.weight', 'model.model.layers.0.self_attn.k_proj.weight', 'model.model.layers.0.self_attn.v_proj.weight', 'model.model.layers.0.self_attn.o_proj.weight', 'model.model.layers.0.self_attn.rotary_emb.inv_freq', 'model.model.layers.0.mlp.gate_proj.weight', 'model.model.layers.0.mlp.up_proj.weight', 'model.model.layers.0.mlp.down_proj.weight', 'model.model.layers.0.input_layernorm.weight', 'model.model.layers.0.post_attention_layernorm.weight', 'model.model.layers.1.self_attn.q_proj.weight', 'model.model.layers.1.self_attn.k_proj.weight', 'model.model.layers.1.self_attn.v_proj.weight', 'model.model.layers.1.self_attn.o_proj.weight', 'model.model.layers.1.self_attn.rotary_emb.inv_freq', 'model.model.layers.1.mlp.gate_proj.weight', 'model.model.layers.1.mlp.up_proj.weight', 'model.model.layers.1.mlp.down_proj.weight', 'model.model.layers.1.input_layernorm.weight', 'model.model.layers.1.post_attention_layernorm.weight', 'model.model.layers.2.self_attn.q_proj.weight', 'model.model.layers.2.self_attn.k_proj.weight', 'model.model.layers.2.self_attn.v_proj.weight', 'model.model.layers.2.self_attn.o_proj.weight', 'model.model.layers.2.self_attn.rotary_emb.inv_freq', 'model.model.layers.2.mlp.gate_proj.weight', 'model.model.layers.2.mlp.up_proj.weight', 'model.model.layers.2.mlp.down_proj.weight', 'model.model.layers.2.input_layernorm.weight', 'model.model.layers.2.post_attention_layernorm.weight', 'model.model.layers.3.self_attn.q_proj.weight', 'model.model.layers.3.self_attn.k_proj.weight', 'model.model.layers.3.self_attn.v_proj.weight', 'model.model.layers.3.self_attn.o_proj.weight', 'model.model.layers.3.self_attn.rotary_emb.inv_freq', 'model.model.layers.3.mlp.gate_proj.weight', 'model.model.layers.3.mlp.up_proj.weight', 'model.model.layers.3.mlp.down_proj.weight', 'model.model.layers.3.input_layernorm.weight', 'model.model.layers.3.post_attention_layernorm.weight', 'model.model.layers.4.self_attn.q_proj.weight', 'model.model.layers.4.self_attn.k_proj.weight', 'model.model.layers.4.self_attn.v_proj.weight', 'model.model.layers.4.self_attn.o_proj.weight', 'model.model.layers.4.self_attn.rotary_emb.inv_freq', 'model.model.layers.4.mlp.gate_proj.weight', 'model.model.layers.4.mlp.up_proj.weight', 'model.model.layers.4.mlp.down_proj.weight', 'model.model.layers.4.input_layernorm.weight', 'model.model.layers.4.post_attention_layernorm.weight', 'model.model.layers.5.self_attn.q_proj.weight', 'model.model.layers.5.self_attn.k_proj.weight', 'model.model.layers.5.self_attn.v_proj.weight', 'model.model.layers.5.self_attn.o_proj.weight', 'model.model.layers.5.self_attn.rotary_emb.inv_freq', 'model.model.layers.5.mlp.gate_proj.weight', 'model.model.layers.5.mlp.up_proj.weight', 'model.model.layers.5.mlp.down_proj.weight', 'model.model.layers.5.input_layernorm.weight', 'model.model.layers.5.post_attention_layernorm.weight', 'model.model.layers.6.self_attn.q_proj.weight', 'model.model.layers.6.self_attn.k_proj.weight', 'model.model.layers.6.self_attn.v_proj.weight', 'model.model.layers.6.self_attn.o_proj.weight', 'model.model.layers.6.self_attn.rotary_emb.inv_freq', 'model.model.layers.6.mlp.gate_proj.weight', 'model.model.layers.6.mlp.up_proj.weight', 'model.model.layers.6.mlp.down_proj.weight', 'model.model.layers.6.input_layernorm.weight', 'model.model.layers.6.post_attention_layernorm.weight', 'model.model.layers.7.self_attn.q_proj.weight', 'model.model.layers.7.self_attn.k_proj.weight', 'model.model.layers.7.self_attn.v_proj.weight', 'model.model.layers.7.self_attn.o_proj.weight', 'model.model.layers.7.self_attn.rotary_emb.inv_freq', 'model.model.layers.7.mlp.gate_proj.weight', 'model.model.layers.7.mlp.up_proj.weight', 'model.model.layers.7.mlp.down_proj.weight', 'model.model.layers.7.input_layernorm.weight', 'model.model.layers.7.post_attention_layernorm.weight', 'model.model.layers.8.self_attn.q_proj.weight', 'model.model.layers.8.self_attn.k_proj.weight', 'model.model.layers.8.self_attn.v_proj.weight', 'model.model.layers.8.self_attn.o_proj.weight', 'model.model.layers.8.self_attn.rotary_emb.inv_freq', 'model.model.layers.8.mlp.gate_proj.weight', 'model.model.layers.8.mlp.up_proj.weight', 'model.model.layers.8.mlp.down_proj.weight', 'model.model.layers.8.input_layernorm.weight', 'model.model.layers.8.post_attention_layernorm.weight', 'model.model.layers.9.self_attn.q_proj.weight', 'model.model.layers.9.self_attn.k_proj.weight', 'model.model.layers.9.self_attn.v_proj.weight', 'model.model.layers.9.self_attn.o_proj.weight', 'model.model.layers.9.self_attn.rotary_emb.inv_freq', 'model.model.layers.9.mlp.gate_proj.weight', 'model.model.layers.9.mlp.up_proj.weight', 'model.model.layers.9.mlp.down_proj.weight', 'model.model.layers.9.input_layernorm.weight', 'model.model.layers.9.post_attention_layernorm.weight', 'model.model.layers.10.self_attn.q_proj.weight', 'model.model.layers.10.self_attn.k_proj.weight', 'model.model.layers.10.self_attn.v_proj.weight', 'model.model.layers.10.self_attn.o_proj.weight', 'model.model.layers.10.self_attn.rotary_emb.inv_freq', 'model.model.layers.10.mlp.gate_proj.weight', 'model.model.layers.10.mlp.up_proj.weight', 'model.model.layers.10.mlp.down_proj.weight', 'model.model.layers.10.input_layernorm.weight', 'model.model.layers.10.post_attention_layernorm.weight', 'model.model.layers.11.self_attn.q_proj.weight', 'model.model.layers.11.self_attn.k_proj.weight', 'model.model.layers.11.self_attn.v_proj.weight', 'model.model.layers.11.self_attn.o_proj.weight', 'model.model.layers.11.self_attn.rotary_emb.inv_freq', 'model.model.layers.11.mlp.gate_proj.weight', 'model.model.layers.11.mlp.up_proj.weight', 'model.model.layers.11.mlp.down_proj.weight', 'model.model.layers.11.input_layernorm.weight', 'model.model.layers.11.post_attention_layernorm.weight', 'model.model.layers.12.self_attn.q_proj.weight', 'model.model.layers.12.self_attn.k_proj.weight', 'model.model.layers.12.self_attn.v_proj.weight', 'model.model.layers.12.self_attn.o_proj.weight', 'model.model.layers.12.self_attn.rotary_emb.inv_freq', 'model.model.layers.12.mlp.gate_proj.weight', 'model.model.layers.12.mlp.up_proj.weight', 'model.model.layers.12.mlp.down_proj.weight', 'model.model.layers.12.input_layernorm.weight', 'model.model.layers.12.post_attention_layernorm.weight', 'model.model.layers.13.self_attn.q_proj.weight', 'model.model.layers.13.self_attn.k_proj.weight', 'model.model.layers.13.self_attn.v_proj.weight', 'model.model.layers.13.self_attn.o_proj.weight', 'model.model.layers.13.self_attn.rotary_emb.inv_freq', 'model.model.layers.13.mlp.gate_proj.weight', 'model.model.layers.13.mlp.up_proj.weight', 'model.model.layers.13.mlp.down_proj.weight', 'model.model.layers.13.input_layernorm.weight', 'model.model.layers.13.post_attention_layernorm.weight', 'model.model.layers.14.self_attn.q_proj.weight', 'model.model.layers.14.self_attn.k_proj.weight', 'model.model.layers.14.self_attn.v_proj.weight', 'model.model.layers.14.self_attn.o_proj.weight', 'model.model.layers.14.self_attn.rotary_emb.inv_freq', 'model.model.layers.14.mlp.gate_proj.weight', 'model.model.layers.14.mlp.up_proj.weight', 'model.model.layers.14.mlp.down_proj.weight', 'model.model.layers.14.input_layernorm.weight', 'model.model.layers.14.post_attention_layernorm.weight', 'model.model.layers.15.self_attn.q_proj.weight', 'model.model.layers.15.self_attn.k_proj.weight', 'model.model.layers.15.self_attn.v_proj.weight', 'model.model.layers.15.self_attn.o_proj.weight', 'model.model.layers.15.self_attn.rotary_emb.inv_freq', 'model.model.layers.15.mlp.gate_proj.weight', 'model.model.layers.15.mlp.up_proj.weight', 'model.model.layers.15.mlp.down_proj.weight', 'model.model.layers.15.input_layernorm.weight', 'model.model.layers.15.post_attention_layernorm.weight', 'model.model.layers.16.self_attn.q_proj.weight', 'model.model.layers.16.self_attn.k_proj.weight', 'model.model.layers.16.self_attn.v_proj.weight', 'model.model.layers.16.self_attn.o_proj.weight', 'model.model.layers.16.self_attn.rotary_emb.inv_freq', 'model.model.layers.16.mlp.gate_proj.weight', 'model.model.layers.16.mlp.up_proj.weight', 'model.model.layers.16.mlp.down_proj.weight', 'model.model.layers.16.input_layernorm.weight', 'model.model.layers.16.post_attention_layernorm.weight', 'model.model.layers.17.self_attn.q_proj.weight', 'model.model.layers.17.self_attn.k_proj.weight', 'model.model.layers.17.self_attn.v_proj.weight', 'model.model.layers.17.self_attn.o_proj.weight', 'model.model.layers.17.self_attn.rotary_emb.inv_freq', 'model.model.layers.17.mlp.gate_proj.weight', 'model.model.layers.17.mlp.up_proj.weight', 'model.model.layers.17.mlp.down_proj.weight', 'model.model.layers.17.input_layernorm.weight', 'model.model.layers.17.post_attention_layernorm.weight', 'model.model.layers.18.self_attn.q_proj.weight', 'model.model.layers.18.self_attn.k_proj.weight', 'model.model.layers.18.self_attn.v_proj.weight', 'model.model.layers.18.self_attn.o_proj.weight', 'model.model.layers.18.self_attn.rotary_emb.inv_freq', 'model.model.layers.18.mlp.gate_proj.weight', 'model.model.layers.18.mlp.up_proj.weight', 'model.model.layers.18.mlp.down_proj.weight', 'model.model.layers.18.input_layernorm.weight', 'model.model.layers.18.post_attention_layernorm.weight', 'model.model.layers.19.self_attn.q_proj.weight', 'model.model.layers.19.self_attn.k_proj.weight', 'model.model.layers.19.self_attn.v_proj.weight', 'model.model.layers.19.self_attn.o_proj.weight', 'model.model.layers.19.self_attn.rotary_emb.inv_freq', 'model.model.layers.19.mlp.gate_proj.weight', 'model.model.layers.19.mlp.up_proj.weight', 'model.model.layers.19.mlp.down_proj.weight', 'model.model.layers.19.input_layernorm.weight', 'model.model.layers.19.post_attention_layernorm.weight', 'model.model.layers.20.self_attn.q_proj.weight', 'model.model.layers.20.self_attn.k_proj.weight', 'model.model.layers.20.self_attn.v_proj.weight', 'model.model.layers.20.self_attn.o_proj.weight', 'model.model.layers.20.self_attn.rotary_emb.inv_freq', 'model.model.layers.20.mlp.gate_proj.weight', 'model.model.layers.20.mlp.up_proj.weight', 'model.model.layers.20.mlp.down_proj.weight', 'model.model.layers.20.input_layernorm.weight', 'model.model.layers.20.post_attention_layernorm.weight', 'model.model.layers.21.self_attn.q_proj.weight', 'model.model.layers.21.self_attn.k_proj.weight', 'model.model.layers.21.self_attn.v_proj.weight', 'model.model.layers.21.self_attn.o_proj.weight', 'model.model.layers.21.self_attn.rotary_emb.inv_freq', 'model.model.layers.21.mlp.gate_proj.weight', 'model.model.layers.21.mlp.up_proj.weight', 'model.model.layers.21.mlp.down_proj.weight', 'model.model.layers.21.input_layernorm.weight', 'model.model.layers.21.post_attention_layernorm.weight', 'model.model.layers.22.self_attn.q_proj.weight', 'model.model.layers.22.self_attn.k_proj.weight', 'model.model.layers.22.self_attn.v_proj.weight', 'model.model.layers.22.self_attn.o_proj.weight', 'model.model.layers.22.self_attn.rotary_emb.inv_freq', 'model.model.layers.22.mlp.gate_proj.weight', 'model.model.layers.22.mlp.up_proj.weight', 'model.model.layers.22.mlp.down_proj.weight', 'model.model.layers.22.input_layernorm.weight', 'model.model.layers.22.post_attention_layernorm.weight', 'model.model.layers.23.self_attn.q_proj.weight', 'model.model.layers.23.self_attn.k_proj.weight', 'model.model.layers.23.self_attn.v_proj.weight', 'model.model.layers.23.self_attn.o_proj.weight', 'model.model.layers.23.self_attn.rotary_emb.inv_freq', 'model.model.layers.23.mlp.gate_proj.weight', 'model.model.layers.23.mlp.up_proj.weight', 'model.model.layers.23.mlp.down_proj.weight', 'model.model.layers.23.input_layernorm.weight', 'model.model.layers.23.post_attention_layernorm.weight', 'model.model.layers.24.self_attn.q_proj.weight', 'model.model.layers.24.self_attn.k_proj.weight', 'model.model.layers.24.self_attn.v_proj.weight', 'model.model.layers.24.self_attn.o_proj.weight', 'model.model.layers.24.self_attn.rotary_emb.inv_freq', 'model.model.layers.24.mlp.gate_proj.weight', 'model.model.layers.24.mlp.up_proj.weight', 'model.model.layers.24.mlp.down_proj.weight', 'model.model.layers.24.input_layernorm.weight', 'model.model.layers.24.post_attention_layernorm.weight', 'model.model.layers.25.self_attn.q_proj.weight', 'model.model.layers.25.self_attn.k_proj.weight', 'model.model.layers.25.self_attn.v_proj.weight', 'model.model.layers.25.self_attn.o_proj.weight', 'model.model.layers.25.self_attn.rotary_emb.inv_freq', 'model.model.layers.25.mlp.gate_proj.weight', 'model.model.layers.25.mlp.up_proj.weight', 'model.model.layers.25.mlp.down_proj.weight', 'model.model.layers.25.input_layernorm.weight', 'model.model.layers.25.post_attention_layernorm.weight', 'model.model.layers.26.self_attn.q_proj.weight', 'model.model.layers.26.self_attn.k_proj.weight', 'model.model.layers.26.self_attn.v_proj.weight', 'model.model.layers.26.self_attn.o_proj.weight', 'model.model.layers.26.self_attn.rotary_emb.inv_freq', 'model.model.layers.26.mlp.gate_proj.weight', 'model.model.layers.26.mlp.up_proj.weight', 'model.model.layers.26.mlp.down_proj.weight', 'model.model.layers.26.input_layernorm.weight', 'model.model.layers.26.post_attention_layernorm.weight', 'model.model.layers.27.self_attn.q_proj.weight', 'model.model.layers.27.self_attn.k_proj.weight', 'model.model.layers.27.self_attn.v_proj.weight', 'model.model.layers.27.self_attn.o_proj.weight', 'model.model.layers.27.self_attn.rotary_emb.inv_freq', 'model.model.layers.27.mlp.gate_proj.weight', 'model.model.layers.27.mlp.up_proj.weight', 'model.model.layers.27.mlp.down_proj.weight', 'model.model.layers.27.input_layernorm.weight', 'model.model.layers.27.post_attention_layernorm.weight', 'model.model.layers.28.self_attn.q_proj.weight', 'model.model.layers.28.self_attn.k_proj.weight', 'model.model.layers.28.self_attn.v_proj.weight', 'model.model.layers.28.self_attn.o_proj.weight', 'model.model.layers.28.self_attn.rotary_emb.inv_freq', 'model.model.layers.28.mlp.gate_proj.weight', 'model.model.layers.28.mlp.up_proj.weight', 'model.model.layers.28.mlp.down_proj.weight', 'model.model.layers.28.input_layernorm.weight', 'model.model.layers.28.post_attention_layernorm.weight', 'model.model.layers.29.self_attn.q_proj.weight', 'model.model.layers.29.self_attn.k_proj.weight', 'model.model.layers.29.self_attn.v_proj.weight', 'model.model.layers.29.self_attn.o_proj.weight', 'model.model.layers.29.self_attn.rotary_emb.inv_freq', 'model.model.layers.29.mlp.gate_proj.weight', 'model.model.layers.29.mlp.up_proj.weight', 'model.model.layers.29.mlp.down_proj.weight', 'model.model.layers.29.input_layernorm.weight', 'model.model.layers.29.post_attention_layernorm.weight', 'model.model.layers.30.self_attn.q_proj.weight', 'model.model.layers.30.self_attn.k_proj.weight', 'model.model.layers.30.self_attn.v_proj.weight', 'model.model.layers.30.self_attn.o_proj.weight', 'model.model.layers.30.self_attn.rotary_emb.inv_freq', 'model.model.layers.30.mlp.gate_proj.weight', 'model.model.layers.30.mlp.up_proj.weight', 'model.model.layers.30.mlp.down_proj.weight', 'model.model.layers.30.input_layernorm.weight', 'model.model.layers.30.post_attention_layernorm.weight', 'model.model.layers.31.self_attn.q_proj.weight', 'model.model.layers.31.self_attn.k_proj.weight', 'model.model.layers.31.self_attn.v_proj.weight', 'model.model.layers.31.self_attn.o_proj.weight', 'model.model.layers.31.self_attn.rotary_emb.inv_freq', 'model.model.layers.31.mlp.gate_proj.weight', 'model.model.layers.31.mlp.up_proj.weight', 'model.model.layers.31.mlp.down_proj.weight', 'model.model.layers.31.input_layernorm.weight', 'model.model.layers.31.post_attention_layernorm.weight', 'model.model.norm.weight', 'model.lm_head.weight', 'retriever.bert.embeddings.word_embeddings.weight', 'retriever.bert.embeddings.position_embeddings.weight', 'retriever.bert.embeddings.token_type_embeddings.weight', 'retriever.bert.embeddings.LayerNorm.weight', 'retriever.bert.embeddings.LayerNorm.bias', 'retriever.bert.encoder.layer.0.attention.self.query.weight', 'retriever.bert.encoder.layer.0.attention.self.query.bias', 'retriever.bert.encoder.layer.0.attention.self.key.weight', 'retriever.bert.encoder.layer.0.attention.self.key.bias', 'retriever.bert.encoder.layer.0.attention.self.value.weight', 'retriever.bert.encoder.layer.0.attention.self.value.bias', 'retriever.bert.encoder.layer.0.attention.output.dense.weight', 'retriever.bert.encoder.layer.0.attention.output.dense.bias', 'retriever.bert.encoder.layer.0.attention.output.LayerNorm.weight', 'retriever.bert.encoder.layer.0.attention.output.LayerNorm.bias', 'retriever.bert.encoder.layer.0.intermediate.dense.weight', 'retriever.bert.encoder.layer.0.intermediate.dense.bias', 'retriever.bert.encoder.layer.0.output.dense.weight', 'retriever.bert.encoder.layer.0.output.dense.bias', 'retriever.bert.encoder.layer.0.output.LayerNorm.weight', 'retriever.bert.encoder.layer.0.output.LayerNorm.bias', 'retriever.bert.encoder.layer.1.attention.self.query.weight', 'retriever.bert.encoder.layer.1.attention.self.query.bias', 'retriever.bert.encoder.layer.1.attention.self.key.weight', 'retriever.bert.encoder.layer.1.attention.self.key.bias', 'retriever.bert.encoder.layer.1.attention.self.value.weight', 'retriever.bert.encoder.layer.1.attention.self.value.bias', 'retriever.bert.encoder.layer.1.attention.output.dense.weight', 'retriever.bert.encoder.layer.1.attention.output.dense.bias', 'retriever.bert.encoder.layer.1.attention.output.LayerNorm.weight', 'retriever.bert.encoder.layer.1.attention.output.LayerNorm.bias', 'retriever.bert.encoder.layer.1.intermediate.dense.weight', 'retriever.bert.encoder.layer.1.intermediate.dense.bias', 'retriever.bert.encoder.layer.1.output.dense.weight', 'retriever.bert.encoder.layer.1.output.dense.bias', 'retriever.bert.encoder.layer.1.output.LayerNorm.weight', 'retriever.bert.encoder.layer.1.output.LayerNorm.bias', 'retriever.bert.encoder.layer.2.attention.self.query.weight', 'retriever.bert.encoder.layer.2.attention.self.query.bias', 'retriever.bert.encoder.layer.2.attention.self.key.weight', 'retriever.bert.encoder.layer.2.attention.self.key.bias', 'retriever.bert.encoder.layer.2.attention.self.value.weight', 'retriever.bert.encoder.layer.2.attention.self.value.bias', 'retriever.bert.encoder.layer.2.attention.output.dense.weight', 'retriever.bert.encoder.layer.2.attention.output.dense.bias', 'retriever.bert.encoder.layer.2.attention.output.LayerNorm.weight', 'retriever.bert.encoder.layer.2.attention.output.LayerNorm.bias', 'retriever.bert.encoder.layer.2.intermediate.dense.weight', 'retriever.bert.encoder.layer.2.intermediate.dense.bias', 'retriever.bert.encoder.layer.2.output.dense.weight', 'retriever.bert.encoder.layer.2.output.dense.bias', 'retriever.bert.encoder.layer.2.output.LayerNorm.weight', 'retriever.bert.encoder.layer.2.output.LayerNorm.bias', 'retriever.bert.encoder.layer.3.attention.self.query.weight', 'retriever.bert.encoder.layer.3.attention.self.query.bias', 'retriever.bert.encoder.layer.3.attention.self.key.weight', 'retriever.bert.encoder.layer.3.attention.self.key.bias', 'retriever.bert.encoder.layer.3.attention.self.value.weight', 'retriever.bert.encoder.layer.3.attention.self.value.bias', 'retriever.bert.encoder.layer.3.attention.output.dense.weight', 'retriever.bert.encoder.layer.3.attention.output.dense.bias', 'retriever.bert.encoder.layer.3.attention.output.LayerNorm.weight', 'retriever.bert.encoder.layer.3.attention.output.LayerNorm.bias', 'retriever.bert.encoder.layer.3.intermediate.dense.weight', 'retriever.bert.encoder.layer.3.intermediate.dense.bias', 'retriever.bert.encoder.layer.3.output.dense.weight', 'retriever.bert.encoder.layer.3.output.dense.bias', 'retriever.bert.encoder.layer.3.output.LayerNorm.weight', 'retriever.bert.encoder.layer.3.output.LayerNorm.bias', 'retriever.bert.encoder.layer.4.attention.self.query.weight', 'retriever.bert.encoder.layer.4.attention.self.query.bias', 'retriever.bert.encoder.layer.4.attention.self.key.weight', 'retriever.bert.encoder.layer.4.attention.self.key.bias', 'retriever.bert.encoder.layer.4.attention.self.value.weight', 'retriever.bert.encoder.layer.4.attention.self.value.bias', 'retriever.bert.encoder.layer.4.attention.output.dense.weight', 'retriever.bert.encoder.layer.4.attention.output.dense.bias', 'retriever.bert.encoder.layer.4.attention.output.LayerNorm.weight', 'retriever.bert.encoder.layer.4.attention.output.LayerNorm.bias', 'retriever.bert.encoder.layer.4.intermediate.dense.weight', 'retriever.bert.encoder.layer.4.intermediate.dense.bias', 'retriever.bert.encoder.layer.4.output.dense.weight', 'retriever.bert.encoder.layer.4.output.dense.bias', 'retriever.bert.encoder.layer.4.output.LayerNorm.weight', 'retriever.bert.encoder.layer.4.output.LayerNorm.bias', 'retriever.bert.encoder.layer.5.attention.self.query.weight', 'retriever.bert.encoder.layer.5.attention.self.query.bias', 'retriever.bert.encoder.layer.5.attention.self.key.weight', 'retriever.bert.encoder.layer.5.attention.self.key.bias', 'retriever.bert.encoder.layer.5.attention.self.value.weight', 'retriever.bert.encoder.layer.5.attention.self.value.bias', 'retriever.bert.encoder.layer.5.attention.output.dense.weight', 'retriever.bert.encoder.layer.5.attention.output.dense.bias', 'retriever.bert.encoder.layer.5.attention.output.LayerNorm.weight', 'retriever.bert.encoder.layer.5.attention.output.LayerNorm.bias', 'retriever.bert.encoder.layer.5.intermediate.dense.weight', 'retriever.bert.encoder.layer.5.intermediate.dense.bias', 'retriever.bert.encoder.layer.5.output.dense.weight', 'retriever.bert.encoder.layer.5.output.dense.bias', 'retriever.bert.encoder.layer.5.output.LayerNorm.weight', 'retriever.bert.encoder.layer.5.output.LayerNorm.bias', 'retriever.bert.encoder.layer.6.attention.self.query.weight', 'retriever.bert.encoder.layer.6.attention.self.query.bias', 'retriever.bert.encoder.layer.6.attention.self.key.weight', 'retriever.bert.encoder.layer.6.attention.self.key.bias', 'retriever.bert.encoder.layer.6.attention.self.value.weight', 'retriever.bert.encoder.layer.6.attention.self.value.bias', 'retriever.bert.encoder.layer.6.attention.output.dense.weight', 'retriever.bert.encoder.layer.6.attention.output.dense.bias', 'retriever.bert.encoder.layer.6.attention.output.LayerNorm.weight', 'retriever.bert.encoder.layer.6.attention.output.LayerNorm.bias', 'retriever.bert.encoder.layer.6.intermediate.dense.weight', 'retriever.bert.encoder.layer.6.intermediate.dense.bias', 'retriever.bert.encoder.layer.6.output.dense.weight', 'retriever.bert.encoder.layer.6.output.dense.bias', 'retriever.bert.encoder.layer.6.output.LayerNorm.weight', 'retriever.bert.encoder.layer.6.output.LayerNorm.bias', 'retriever.bert.encoder.layer.7.attention.self.query.weight', 'retriever.bert.encoder.layer.7.attention.self.query.bias', 'retriever.bert.encoder.layer.7.attention.self.key.weight', 'retriever.bert.encoder.layer.7.attention.self.key.bias', 'retriever.bert.encoder.layer.7.attention.self.value.weight', 'retriever.bert.encoder.layer.7.attention.self.value.bias', 'retriever.bert.encoder.layer.7.attention.output.dense.weight', 'retriever.bert.encoder.layer.7.attention.output.dense.bias', 'retriever.bert.encoder.layer.7.attention.output.LayerNorm.weight', 'retriever.bert.encoder.layer.7.attention.output.LayerNorm.bias', 'retriever.bert.encoder.layer.7.intermediate.dense.weight', 'retriever.bert.encoder.layer.7.intermediate.dense.bias', 'retriever.bert.encoder.layer.7.output.dense.weight', 'retriever.bert.encoder.layer.7.output.dense.bias', 'retriever.bert.encoder.layer.7.output.LayerNorm.weight', 'retriever.bert.encoder.layer.7.output.LayerNorm.bias', 'retriever.bert.encoder.layer.8.attention.self.query.weight', 'retriever.bert.encoder.layer.8.attention.self.query.bias', 'retriever.bert.encoder.layer.8.attention.self.key.weight', 'retriever.bert.encoder.layer.8.attention.self.key.bias', 'retriever.bert.encoder.layer.8.attention.self.value.weight', 'retriever.bert.encoder.layer.8.attention.self.value.bias', 'retriever.bert.encoder.layer.8.attention.output.dense.weight', 'retriever.bert.encoder.layer.8.attention.output.dense.bias', 'retriever.bert.encoder.layer.8.attention.output.LayerNorm.weight', 'retriever.bert.encoder.layer.8.attention.output.LayerNorm.bias', 'retriever.bert.encoder.layer.8.intermediate.dense.weight', 'retriever.bert.encoder.layer.8.intermediate.dense.bias', 'retriever.bert.encoder.layer.8.output.dense.weight', 'retriever.bert.encoder.layer.8.output.dense.bias', 'retriever.bert.encoder.layer.8.output.LayerNorm.weight', 'retriever.bert.encoder.layer.8.output.LayerNorm.bias', 'retriever.bert.encoder.layer.9.attention.self.query.weight', 'retriever.bert.encoder.layer.9.attention.self.query.bias', 'retriever.bert.encoder.layer.9.attention.self.key.weight', 'retriever.bert.encoder.layer.9.attention.self.key.bias', 'retriever.bert.encoder.layer.9.attention.self.value.weight', 'retriever.bert.encoder.layer.9.attention.self.value.bias', 'retriever.bert.encoder.layer.9.attention.output.dense.weight', 'retriever.bert.encoder.layer.9.attention.output.dense.bias', 'retriever.bert.encoder.layer.9.attention.output.LayerNorm.weight', 'retriever.bert.encoder.layer.9.attention.output.LayerNorm.bias', 'retriever.bert.encoder.layer.9.intermediate.dense.weight', 'retriever.bert.encoder.layer.9.intermediate.dense.bias', 'retriever.bert.encoder.layer.9.output.dense.weight', 'retriever.bert.encoder.layer.9.output.dense.bias', 'retriever.bert.encoder.layer.9.output.LayerNorm.weight', 'retriever.bert.encoder.layer.9.output.LayerNorm.bias', 'retriever.bert.encoder.layer.10.attention.self.query.weight', 'retriever.bert.encoder.layer.10.attention.self.query.bias', 'retriever.bert.encoder.layer.10.attention.self.key.weight', 'retriever.bert.encoder.layer.10.attention.self.key.bias', 'retriever.bert.encoder.layer.10.attention.self.value.weight', 'retriever.bert.encoder.layer.10.attention.self.value.bias', 'retriever.bert.encoder.layer.10.attention.output.dense.weight', 'retriever.bert.encoder.layer.10.attention.output.dense.bias', 'retriever.bert.encoder.layer.10.attention.output.LayerNorm.weight', 'retriever.bert.encoder.layer.10.attention.output.LayerNorm.bias', 'retriever.bert.encoder.layer.10.intermediate.dense.weight', 'retriever.bert.encoder.layer.10.intermediate.dense.bias', 'retriever.bert.encoder.layer.10.output.dense.weight', 'retriever.bert.encoder.layer.10.output.dense.bias', 'retriever.bert.encoder.layer.10.output.LayerNorm.weight', 'retriever.bert.encoder.layer.10.output.LayerNorm.bias', 'retriever.bert.encoder.layer.11.attention.self.query.weight', 'retriever.bert.encoder.layer.11.attention.self.query.bias', 'retriever.bert.encoder.layer.11.attention.self.key.weight', 'retriever.bert.encoder.layer.11.attention.self.key.bias', 'retriever.bert.encoder.layer.11.attention.self.value.weight', 'retriever.bert.encoder.layer.11.attention.self.value.bias', 'retriever.bert.encoder.layer.11.attention.output.dense.weight', 'retriever.bert.encoder.layer.11.attention.output.dense.bias', 'retriever.bert.encoder.layer.11.attention.output.LayerNorm.weight', 'retriever.bert.encoder.layer.11.attention.output.LayerNorm.bias', 'retriever.bert.encoder.layer.11.intermediate.dense.weight', 'retriever.bert.encoder.layer.11.intermediate.dense.bias', 'retriever.bert.encoder.layer.11.output.dense.weight', 'retriever.bert.encoder.layer.11.output.dense.bias', 'retriever.bert.encoder.layer.11.output.LayerNorm.weight', 'retriever.bert.encoder.layer.11.output.LayerNorm.bias', 'retriever.bert.pooler.dense.weight', 'retriever.bert.pooler.dense.bias'], unexpected_keys=[])"
      ]
     },
     "execution_count": 7,
     "metadata": {},
     "output_type": "execute_result"
    }
   ],
   "source": [
    "config = LlamaCLConfig()\n",
    "model = ScalableLM(config)\n",
    "model.load_state_dict(torch.load(\"/data/bhpeng/SLM-llama/outputs/finance_history_medical/pytorch_model.bin\"), strict=False)"
   ]
  },
  {
   "cell_type": "code",
   "execution_count": 11,
   "metadata": {},
   "outputs": [
    {
     "data": {
      "text/plain": [
       "{'task': 'finance',\n",
       " 'raw_text': [\"What is the sentiment of this tweet? Please choose an answer from {negative/neutral/positive} ### The Group 's consolidated net sales for 2009 totaled 1.5 billion euros and it employs approximately 10,000 persons .\"],\n",
       " 'input_ids': tensor([[    1,   518, 25580, 29962,  3532, 14816, 29903,  6778,    13,  5618,\n",
       "            338,   278, 19688,   310,   445,  7780,   300, 29973,  3529,  6755,\n",
       "            385,  1234,   515,   426, 22198, 29914, 17821,  1705, 29914,  1066,\n",
       "           3321, 29913,    13, 29966,   829, 14816, 29903,  6778,    13,    13,\n",
       "           1576,  6431,   525, 29879,  1136, 17211,   630,  7787, 16538,   363,\n",
       "          29871, 29906, 29900, 29900, 29929,  2025,  7943, 29871, 29896, 29889,\n",
       "          29945, 24464, 11878,  1883,   322,   372,  3710,   417,   952, 14235,\n",
       "          29871, 29896, 29900, 29892, 29900, 29900, 29900, 12407,   869,   518,\n",
       "          29914, 25580, 29962, 29871]]),\n",
       " 'attention_mask': tensor([[1, 1, 1, 1, 1, 1, 1, 1, 1, 1, 1, 1, 1, 1, 1, 1, 1, 1, 1, 1, 1, 1, 1, 1,\n",
       "          1, 1, 1, 1, 1, 1, 1, 1, 1, 1, 1, 1, 1, 1, 1, 1, 1, 1, 1, 1, 1, 1, 1, 1,\n",
       "          1, 1, 1, 1, 1, 1, 1, 1, 1, 1, 1, 1, 1, 1, 1, 1, 1, 1, 1, 1, 1, 1, 1, 1,\n",
       "          1, 1, 1, 1, 1, 1, 1, 1, 1, 1, 1, 1]]),\n",
       " 'labels': tensor([[21104, 29889,     2]])}"
      ]
     },
     "execution_count": 11,
     "metadata": {},
     "output_type": "execute_result"
    }
   ],
   "source": [
    "model = model.to(\"cuda\").eval()"
   ]
  },
  {
   "cell_type": "code",
   "execution_count": 13,
   "metadata": {},
   "outputs": [],
   "source": [
    "out=model.generate(max_length=512,\n",
    "                   input_ids=data['input_ids'].to('cuda'),\n",
    "                   raw_text=data['raw_text'],\n",
    "                   attention_mask=data['attention_mask'].to('cuda'))"
   ]
  },
  {
   "cell_type": "code",
   "execution_count": 14,
   "metadata": {},
   "outputs": [
    {
     "data": {
      "text/plain": [
       "tensor([[    1,   518, 25580, 29962,  3532, 14816, 29903,  6778,    13,  5618,\n",
       "           338,   278, 19688,   310,   445,  7780,   300, 29973,  3529,  6755,\n",
       "           385,  1234,   515,   426, 22198, 29914, 17821,  1705, 29914,  1066,\n",
       "          3321, 29913,    13, 29966,   829, 14816, 29903,  6778,    13,    13,\n",
       "          1576,  6431,   525, 29879,  1136, 17211,   630,  7787, 16538,   363,\n",
       "         29871, 29906, 29900, 29900, 29929,  2025,  7943, 29871, 29896, 29889,\n",
       "         29945, 24464, 11878,  1883,   322,   372,  3710,   417,   952, 14235,\n",
       "         29871, 29896, 29900, 29892, 29900, 29900, 29900, 12407,   869,   518,\n",
       "         29914, 25580, 29962, 29871, 21104, 29889,     2]], device='cuda:0')"
      ]
     },
     "execution_count": 14,
     "metadata": {},
     "output_type": "execute_result"
    }
   ],
   "source": [
    "out"
   ]
  }
 ],
 "metadata": {
  "kernelspec": {
   "display_name": "llm",
   "language": "python",
   "name": "python3"
  },
  "language_info": {
   "codemirror_mode": {
    "name": "ipython",
    "version": 3
   },
   "file_extension": ".py",
   "mimetype": "text/x-python",
   "name": "python",
   "nbconvert_exporter": "python",
   "pygments_lexer": "ipython3",
   "version": "3.10.12"
  },
  "orig_nbformat": 4
 },
 "nbformat": 4,
 "nbformat_minor": 2
}
