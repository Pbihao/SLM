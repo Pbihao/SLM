{
 "cells": [
  {
   "cell_type": "code",
   "execution_count": 8,
   "metadata": {},
   "outputs": [],
   "source": [
    "import torch\n",
    "import numpy as np\n",
    "src_X = torch.load(\"/dataset/zhuotaotian/bhpeng/SLM-weight/vectordb/output/model_6*40_all.pth\", map_location=torch.device('cpu'))"
   ]
  },
  {
   "cell_type": "code",
   "execution_count": 40,
   "metadata": {},
   "outputs": [],
   "source": [
    "X = []\n",
    "classes = []\n",
    "groups = []\n",
    "for i in range(5):\n",
    "    for j in range(4):\n",
    "        for k in range(6):\n",
    "            X.append(src_X['keys'][0, k, i*8+j])\n",
    "            classes.append(i)\n",
    "            groups.append(k)\n",
    "X = torch.stack(X, dim=0).numpy()\n",
    "X = ((X-X.min()) / (X.max() - X.min()) - 0.5) * 2\n",
    "classes = np.array(classes)\n",
    "groups = np.array(groups)"
   ]
  },
  {
   "cell_type": "code",
   "execution_count": 53,
   "metadata": {},
   "outputs": [
    {
     "name": "stderr",
     "output_type": "stream",
     "text": [
      "/tmp/ipykernel_844249/1972629522.py:11: MatplotlibDeprecationWarning: The get_cmap function was deprecated in Matplotlib 3.7 and will be removed two minor releases later. Use ``matplotlib.colormaps[name]`` or ``matplotlib.colormaps.get_cmap(obj)`` instead.\n",
      "  class_colors = plt.cm.get_cmap(\"Set1\", len(np.unique(classes)))\n"
     ]
    },
    {
     "data": {
      "image/png": "[encoded data removed]",
      "text/plain": [
       "<Figure size 600x300 with 1 Axes>"
      ]
     },
     "metadata": {},
     "output_type": "display_data"
    }
   ],
   "source": [
    "%matplotlib inline\n",
    "import numpy as np\n",
    "import matplotlib.pyplot as plt\n",
    "from sklearn import manifold,datasets\n",
    "from sklearn.manifold import TSNE\n",
    "\n",
    "tsne = TSNE(n_components=2, random_state=42)\n",
    "embedded_vectors = tsne.fit_transform(X)\n",
    "embedded_vectors = ((embedded_vectors-embedded_vectors.min()) / (embedded_vectors.max() - embedded_vectors.min()) - 0.5) * 2\n",
    "\n",
    "class_colors = plt.cm.get_cmap(\"Set1\", len(np.unique(classes)))\n",
    "group_markers = [\"o\", \"*\", \"v\", \"D\", \"^\", \"p\"]\n",
    "\n",
    "plt.figure(figsize=(6, 3))\n",
    "\n",
    "for i in range(len(embedded_vectors)):\n",
    "    plt.scatter(\n",
    "        embedded_vectors[i, 0],\n",
    "        embedded_vectors[i, 1],\n",
    "        c=[class_colors(classes[i])],\n",
    "        marker=group_markers[groups[i]],\n",
    "    )\n",
    "\n",
    "# for group in np.unique(groups):\n",
    "#     indices = np.where(groups == group)\n",
    "#     plt.scatter(\n",
    "#         embedded_vectors[indices, 0],\n",
    "#         embedded_vectors[indices, 1],\n",
    "#         c=[group_colors(group)] * len(indices),\n",
    "#         marker=class_markers[classes[i]],\n",
    "#         label=f\"Group {group}\",\n",
    "#     )\n",
    "\n",
    "# for class_label in np.unique(classes):\n",
    "#     indices = np.where(classes == class_label)\n",
    "#     plt.scatter(\n",
    "#         embedded_vectors[indices, 0],\n",
    "#         embedded_vectors[indices, 1],\n",
    "#         c=\"black\",\n",
    "#         marker=class_markers[class_label],\n",
    "#         label=f\"Class {class_label}\",\n",
    "#     )\n",
    "\n",
    "# plt.show()\n",
    "plt.savefig(\"/dataset/zhuotaotian/bhpeng/SLM-weight/outputs/tsne.pdf\")"
   ]
  }
 ],
 "metadata": {
  "kernelspec": {
   "display_name": "llm",
   "language": "python",
   "name": "python3"
  },
  "language_info": {
   "codemirror_mode": {
    "name": "ipython",
    "version": 3
   },
   "file_extension": ".py",
   "mimetype": "text/x-python",
   "name": "python",
   "nbconvert_exporter": "python",
   "pygments_lexer": "ipython3",
   "version": "3.11.4"
  },
  "orig_nbformat": 4
 },
 "nbformat": 4,
 "nbformat_minor": 2
}
