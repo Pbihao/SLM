{
 "cells": [
  {
   "cell_type": "code",
   "execution_count": 1,
   "metadata": {},
   "outputs": [
    {
     "data": {
      "text/plain": [
       "{'ag': [0, 1, 2, 3],\n",
       " 'amazon': [4, 5, 6, 7],\n",
       " 'dbpedia': [8, 9, 10, 11],\n",
       " 'yahoo': [12, 13, 14, 15],\n",
       " 'yelp': [16, 17, 18, 19]}"
      ]
     },
     "execution_count": 1,
     "metadata": {},
     "output_type": "execute_result"
    }
   ],
   "source": [
    "import json\n",
    "record_path = \"/dataset/zhuotaotian/bhpeng/vectordb/output-group/record.json\"\n",
    "index_range = {\n",
    "        \"ag\": [\n",
    "            0,\n",
    "            4\n",
    "        ],\n",
    "        \"amazon\": [\n",
    "            4,\n",
    "            8\n",
    "        ],\n",
    "        \"dbpedia\": [\n",
    "            8,\n",
    "            12\n",
    "        ],\n",
    "        \"yahoo\": [\n",
    "            12,\n",
    "            16\n",
    "        ],\n",
    "        \"yelp\": [\n",
    "            16,\n",
    "            20\n",
    "        ]\n",
    "    }\n",
    "tasks = ['ag', 'amazon', 'dbpedia', 'yahoo', 'yelp']\n",
    "topk = 2\n",
    "groups = 6\n",
    "\n",
    "for k, v in index_range.items():\n",
    "    index_range[k] = list(range(v[0], v[1]))\n",
    "index_range"
   ]
  },
  {
   "cell_type": "code",
   "execution_count": 4,
   "metadata": {},
   "outputs": [
    {
     "name": "stdout",
     "output_type": "stream",
     "text": [
      "{'group': 0, 'index': 0, 'label': 'ag'} 91200\n"
     ]
    }
   ],
   "source": [
    "with open(record_path) as f:\n",
    "    data = json.load(f)\n",
    "print(data['ag'][0], len(data['ag']))"
   ]
  },
  {
   "cell_type": "code",
   "execution_count": 10,
   "metadata": {},
   "outputs": [
    {
     "name": "stdout",
     "output_type": "stream",
     "text": [
      "total_accuracy:\n",
      "   ag     :  0.8677083333333333\n",
      "   amazon :  0.8664473684210526\n",
      "   dbpedia:  0.8717214912280702\n",
      "   yahoo  :  0.744265350877193\n",
      "   yelp   :  0.9276754385964913\n",
      "   avg    :  0.855563596491228\n",
      "single_right_rate:\n",
      "   ag     :  0.9675\n",
      "   amazon :  0.966842105263158\n",
      "   dbpedia:  0.9771052631578947\n",
      "   yahoo  :  0.8256578947368421\n",
      "   yelp   :  0.9948684210526316\n",
      "   avg    :  0.9463947368421053\n"
     ]
    }
   ],
   "source": [
    "def compute_accuracy(data, thresh=0.5):\n",
    "    accuracy = dict()\n",
    "    for task in tasks:\n",
    "        accuracy[task] = dict(total_num=0, total_right=0, single_right_rate=0)\n",
    "        single_right = 0\n",
    "        for i, d in enumerate(data[task]):\n",
    "            accuracy[task]['total_num'] += 1\n",
    "            if d['index'] in index_range[task]:\n",
    "                accuracy[task]['total_right'] += 1\n",
    "                single_right += 1\n",
    "            if i % (topk*groups) == (topk * groups - 1):\n",
    "                if single_right / topk / groups > thresh:\n",
    "                    accuracy[task]['single_right_rate'] += 1\n",
    "                single_right = 0\n",
    "        accuracy[task]['total_accuracy'] = accuracy[task]['total_right'] / accuracy[task]['total_num']\n",
    "        accuracy[task]['single_right_rate'] /= (len(data[task]) / groups / topk)\n",
    "    return accuracy\n",
    "accuracy = compute_accuracy(data)\n",
    "for attr in ['total_accuracy', 'single_right_rate']:\n",
    "    print(attr+\":\")\n",
    "    s=0\n",
    "    for task in tasks:\n",
    "        print(\"  \",  \"{:7s}: \".format(task), accuracy[task][attr])\n",
    "        s+=float(accuracy[task][attr])\n",
    "    print(\"  \",  \"{:7s}: \".format('avg'), s/5)"
   ]
  }
 ],
 "metadata": {
  "kernelspec": {
   "display_name": "llm",
   "language": "python",
   "name": "python3"
  },
  "language_info": {
   "codemirror_mode": {
    "name": "ipython",
    "version": 3
   },
   "file_extension": ".py",
   "mimetype": "text/x-python",
   "name": "python",
   "nbconvert_exporter": "python",
   "pygments_lexer": "ipython3",
   "version": "3.11.4"
  },
  "orig_nbformat": 4
 },
 "nbformat": 4,
 "nbformat_minor": 2
}
