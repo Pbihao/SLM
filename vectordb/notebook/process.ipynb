{
 "cells": [
  {
   "cell_type": "code",
   "execution_count": 50,
   "metadata": {},
   "outputs": [
    {
     "data": {
      "text/plain": [
       "{'ag': [0, 1, 2, 3],\n",
       " 'amazon': [4, 5, 6, 7],\n",
       " 'dbpedia': [8, 9, 10, 11],\n",
       " 'yahoo': [12, 13, 14, 15],\n",
       " 'yelp': [16, 17, 18, 19]}"
      ]
     },
     "execution_count": 50,
     "metadata": {},
     "output_type": "execute_result"
    }
   ],
   "source": [
    "import json\n",
    "record_path = \"/dataset/zhuotaotian/bhpeng/vectordb/output/record.json\"\n",
    "config_path = \"/dataset/zhuotaotian/bhpeng/vectordb/output/config_6*20_all.json\"\n",
    "index_range = {\n",
    "        \"ag\": [\n",
    "            0,\n",
    "            4\n",
    "        ],\n",
    "        \"amazon\": [\n",
    "            4,\n",
    "            8\n",
    "        ],\n",
    "        \"dbpedia\": [\n",
    "            8,\n",
    "            12\n",
    "        ],\n",
    "        \"yahoo\": [\n",
    "            12,\n",
    "            16\n",
    "        ],\n",
    "        \"yelp\": [\n",
    "            16,\n",
    "            20\n",
    "        ]\n",
    "    }\n",
    "tasks = ['ag', 'amazon', 'dbpedia', 'yahoo', 'yelp']\n",
    "topk = 2\n",
    "groups = 6\n",
    "\n",
    "for k, v in index_range.items():\n",
    "    index_range[k] = list(range(v[0], v[1]))\n",
    "index_range"
   ]
  },
  {
   "cell_type": "code",
   "execution_count": 51,
   "metadata": {},
   "outputs": [
    {
     "name": "stdout",
     "output_type": "stream",
     "text": [
      "{'group': 0, 'index': 1, 'label': 'ag'} 91200\n"
     ]
    }
   ],
   "source": [
    "with open(record_path) as f:\n",
    "    data = json.load(f)\n",
    "print(data['ag'][0], len(data['ag']))"
   ]
  },
  {
   "cell_type": "code",
   "execution_count": 62,
   "metadata": {},
   "outputs": [
    {
     "name": "stdout",
     "output_type": "stream",
     "text": [
      "total_accuracy:\n",
      "   ag     :  0.8687061403508772\n",
      "   amazon :  0.8682785087719298\n",
      "   dbpedia:  0.8796271929824562\n",
      "   yahoo  :  0.7445504385964913\n",
      "   yelp   :  0.9233881578947368\n",
      "   avg    :  0.8569100877192983\n",
      "single_right_rate:\n",
      "   ag     :  0.98\n",
      "   amazon :  0.9801315789473685\n",
      "   dbpedia:  0.9857894736842105\n",
      "   yahoo  :  0.8630263157894736\n",
      "   yelp   :  0.9952631578947368\n",
      "   avg    :  0.9608421052631579\n"
     ]
    }
   ],
   "source": [
    "def compute_accuracy(data, thresh=0.5):\n",
    "    accuracy = dict()\n",
    "    for task in tasks:\n",
    "        accuracy[task] = dict(total_num=0, total_right=0, single_right_rate=0)\n",
    "        single_right = 0\n",
    "        for i, d in enumerate(data[task]):\n",
    "            accuracy[task]['total_num'] += 1\n",
    "            if d['index'] in index_range[task]:\n",
    "                accuracy[task]['total_right'] += 1\n",
    "                single_right += 1\n",
    "            if i % (topk*groups) == (topk * groups - 1):\n",
    "                if single_right / topk / groups > thresh:\n",
    "                    accuracy[task]['single_right_rate'] += 1\n",
    "                single_right = 0\n",
    "        accuracy[task]['total_accuracy'] = accuracy[task]['total_right'] / accuracy[task]['total_num']\n",
    "        accuracy[task]['single_right_rate'] /= (len(data[task]) / groups / topk)\n",
    "    return accuracy\n",
    "accuracy = compute_accuracy(data)\n",
    "for attr in ['total_accuracy', 'single_right_rate']:\n",
    "    print(attr+\":\")\n",
    "    s=0\n",
    "    for task in tasks:\n",
    "        print(\"  \",  \"{:7s}: \".format(task), accuracy[task][attr])\n",
    "        s+=float(accuracy[task][attr])\n",
    "    print(\"  \",  \"{:7s}: \".format('avg'), s/5)"
   ]
  },
  {
   "cell_type": "code",
   "execution_count": 24,
   "metadata": {},
   "outputs": [
    {
     "data": {
      "text/plain": [
       "{'ag': {'num': 91200, 'right': 79172, 'accuracy': 0.8681140350877193},\n",
       " 'amazon': {'num': 91200, 'right': 78973, 'accuracy': 0.8659320175438596},\n",
       " 'dbpedia': {'num': 91200, 'right': 80645, 'accuracy': 0.8842653508771929},\n",
       " 'yahoo': {'num': 91200, 'right': 67997, 'accuracy': 0.7455811403508772},\n",
       " 'yelp': {'num': 91200, 'right': 83723, 'accuracy': 0.918015350877193}}"
      ]
     },
     "execution_count": 24,
     "metadata": {},
     "output_type": "execute_result"
    }
   ],
   "source": []
  }
 ],
 "metadata": {
  "kernelspec": {
   "display_name": "llm",
   "language": "python",
   "name": "python3"
  },
  "language_info": {
   "codemirror_mode": {
    "name": "ipython",
    "version": 3
   },
   "file_extension": ".py",
   "mimetype": "text/x-python",
   "name": "python",
   "nbconvert_exporter": "python",
   "pygments_lexer": "ipython3",
   "version": "3.11.4"
  },
  "orig_nbformat": 4
 },
 "nbformat": 4,
 "nbformat_minor": 2
}
