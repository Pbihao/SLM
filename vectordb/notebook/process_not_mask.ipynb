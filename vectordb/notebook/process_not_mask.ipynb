{
 "cells": [
  {
   "cell_type": "code",
   "execution_count": 30,
   "metadata": {},
   "outputs": [],
   "source": [
    "import json\n",
    "record_path = \"/dataset/zhuotaotian/bhpeng/vectordb/output-group-1-nomask/record.json\"\n",
    "index_range = {\n",
    "        \"ag\": [\n",
    "            0,\n",
    "            24\n",
    "        ],\n",
    "        \"amazon\": [\n",
    "            24,\n",
    "            48\n",
    "        ],\n",
    "        \"dbpedia\": [\n",
    "            48,\n",
    "            72\n",
    "        ],\n",
    "        \"yahoo\": [\n",
    "            72,\n",
    "            96\n",
    "        ],\n",
    "        \"yelp\": [\n",
    "            96,\n",
    "            120\n",
    "        ]\n",
    "    }\n",
    "tasks = ['ag', 'amazon', 'dbpedia', 'yahoo', 'yelp']\n",
    "topk = 12\n",
    "groups = 1\n",
    "\n",
    "for k, v in index_range.items():\n",
    "    index_range[k] = list(range(v[0], v[1]))"
   ]
  },
  {
   "cell_type": "code",
   "execution_count": 33,
   "metadata": {},
   "outputs": [
    {
     "name": "stdout",
     "output_type": "stream",
     "text": [
      "{'group': 0, 'index': 19, 'label': 'ag'} 91200\n"
     ]
    }
   ],
   "source": [
    "with open(record_path) as f:\n",
    "    data = json.load(f)\n",
    "print(data['ag'][0], len(data['ag']))"
   ]
  },
  {
   "cell_type": "code",
   "execution_count": 38,
   "metadata": {},
   "outputs": [
    {
     "name": "stdout",
     "output_type": "stream",
     "text": [
      "total_accuracy:\n",
      "   ag     :  0.905921052631579\n",
      "   amazon :  0.9276206140350877\n",
      "   dbpedia:  0.9095394736842105\n",
      "   yahoo  :  0.7856688596491228\n",
      "   yelp   :  0.9472149122807018\n",
      "   avg    :  0.8951929824561404\n",
      "single_right_rate:\n",
      "   ag     :  0.915921052631579\n",
      "   amazon :  0.9222368421052631\n",
      "   dbpedia:  0.9106578947368421\n",
      "   yahoo  :  0.7885526315789474\n",
      "   yelp   :  0.9397368421052632\n",
      "   avg    :  0.8954210526315791\n"
     ]
    }
   ],
   "source": [
    "def compute_accuracy(data, thresh=0.5):\n",
    "    accuracy = dict()\n",
    "    for task in tasks:\n",
    "        accuracy[task] = dict(total_num=0, total_right=0, single_right_rate=0)\n",
    "        single_right = 0\n",
    "        for i, d in enumerate(data[task]):\n",
    "            accuracy[task]['total_num'] += 1\n",
    "            if d['index'] in index_range[task]:\n",
    "                accuracy[task]['total_right'] += 1\n",
    "                single_right += 1\n",
    "            if i % (topk*groups) == (topk * groups - 1):\n",
    "                if single_right / topk / groups > thresh:\n",
    "                    accuracy[task]['single_right_rate'] += 1\n",
    "                single_right = 0\n",
    "        accuracy[task]['total_accuracy'] = accuracy[task]['total_right'] / accuracy[task]['total_num']\n",
    "        accuracy[task]['single_right_rate'] /= (len(data[task]) / groups / topk)\n",
    "    return accuracy\n",
    "accuracy = compute_accuracy(data)\n",
    "for attr in ['total_accuracy', 'single_right_rate']:\n",
    "    print(attr+\":\")\n",
    "    s=0\n",
    "    for task in tasks:\n",
    "        print(\"  \",  \"{:7s}: \".format(task), accuracy[task][attr])\n",
    "        s+=float(accuracy[task][attr])\n",
    "    print(\"  \",  \"{:7s}: \".format('avg'), s/5)"
   ]
  }
 ],
 "metadata": {
  "kernelspec": {
   "display_name": "llm",
   "language": "python",
   "name": "python3"
  },
  "language_info": {
   "codemirror_mode": {
    "name": "ipython",
    "version": 3
   },
   "file_extension": ".py",
   "mimetype": "text/x-python",
   "name": "python",
   "nbconvert_exporter": "python",
   "pygments_lexer": "ipython3",
   "version": "3.11.4"
  },
  "orig_nbformat": 4
 },
 "nbformat": 4,
 "nbformat_minor": 2
}
